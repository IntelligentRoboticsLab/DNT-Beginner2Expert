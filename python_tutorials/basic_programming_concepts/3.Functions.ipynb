{
 "cells": [
  {
   "cell_type": "markdown",
   "id": "a675a5b7",
   "metadata": {},
   "source": [
    "# Functions"
   ]
  },
  {
   "cell_type": "markdown",
   "id": "fa37c37c",
   "metadata": {},
   "source": [
    "## Basic syntax"
   ]
  },
  {
   "cell_type": "markdown",
   "id": "cdc02dab",
   "metadata": {},
   "source": [
    "We have already seen several functions, like print(), type() and id(). But what is a function exactly? A function is a block of code which only runs when it is called. Lets define a simple function below that prints hello world. We do this with the def keyword as follows."
   ]
  },
  {
   "cell_type": "code",
   "execution_count": 14,
   "id": "5d1782a9",
   "metadata": {},
   "outputs": [],
   "source": [
    "def print_hello_world():\n",
    "    print(\"Hello world!\")"
   ]
  },
  {
   "cell_type": "markdown",
   "id": "69ef49c8",
   "metadata": {},
   "source": [
    "You can now call the function you just defined like this."
   ]
  },
  {
   "cell_type": "code",
   "execution_count": 15,
   "id": "96d00235",
   "metadata": {},
   "outputs": [
    {
     "name": "stdout",
     "output_type": "stream",
     "text": [
      "Hello world!\n"
     ]
    }
   ],
   "source": [
    "print_hello_world()"
   ]
  },
  {
   "cell_type": "markdown",
   "id": "8f655d57",
   "metadata": {},
   "source": [
    "## Function parameters"
   ]
  },
  {
   "cell_type": "markdown",
   "id": "bc9b66d6",
   "metadata": {},
   "source": [
    "You can also pass information to a function as an argument. The arguments you can pass to a function are referred to as the paremeters of a function. Below we will define a function with one parameter and print the value of whatever the value is that is passed as that parameter. As you can see that parameter can than be used in the rest of that function like a variable, in this case we pass it on the the print() function."
   ]
  },
  {
   "cell_type": "code",
   "execution_count": 16,
   "id": "eff15f88",
   "metadata": {},
   "outputs": [],
   "source": [
    "def print_value(a):\n",
    "    print(a)"
   ]
  },
  {
   "cell_type": "markdown",
   "id": "b0162f65",
   "metadata": {},
   "source": [
    "Lets call this function with several different arguments."
   ]
  },
  {
   "cell_type": "code",
   "execution_count": 17,
   "id": "00d51df9",
   "metadata": {},
   "outputs": [
    {
     "name": "stdout",
     "output_type": "stream",
     "text": [
      "4\n",
      "Test\n",
      "True\n"
     ]
    }
   ],
   "source": [
    "print_value(4)\n",
    "print_value(\"Test\")\n",
    "print_value(True)"
   ]
  },
  {
   "cell_type": "markdown",
   "id": "8b7598fe",
   "metadata": {},
   "source": [
    "You must always call a function with the correct number of arguments. The code below call the print_value function with two arguments, which is to many. Therefore it will fail."
   ]
  },
  {
   "cell_type": "code",
   "execution_count": 32,
   "id": "70cc0d3f",
   "metadata": {},
   "outputs": [
    {
     "ename": "TypeError",
     "evalue": "print_value() takes 1 positional argument but 2 were given",
     "output_type": "error",
     "traceback": [
      "\u001b[0;31m---------------------------------------------------------------------------\u001b[0m",
      "\u001b[0;31mTypeError\u001b[0m                                 Traceback (most recent call last)",
      "Cell \u001b[0;32mIn [32], line 1\u001b[0m\n\u001b[0;32m----> 1\u001b[0m \u001b[43mprint_value\u001b[49m\u001b[43m(\u001b[49m\u001b[38;5;241;43m4\u001b[39;49m\u001b[43m,\u001b[49m\u001b[43m \u001b[49m\u001b[38;5;124;43m\"\u001b[39;49m\u001b[38;5;124;43mTest\u001b[39;49m\u001b[38;5;124;43m\"\u001b[39;49m\u001b[43m)\u001b[49m\n",
      "\u001b[0;31mTypeError\u001b[0m: print_value() takes 1 positional argument but 2 were given"
     ]
    }
   ],
   "source": [
    "print_value(4, \"Test\")"
   ]
  },
  {
   "cell_type": "markdown",
   "id": "1060845c",
   "metadata": {},
   "source": [
    "You can also define function parameters with default values that are used when that argument is not passed to the function. Lets redefine the print_value function with a default parameter."
   ]
  },
  {
   "cell_type": "code",
   "execution_count": 33,
   "id": "2f156d07",
   "metadata": {},
   "outputs": [
    {
     "name": "stdout",
     "output_type": "stream",
     "text": [
      "Test\n",
      "default\n"
     ]
    }
   ],
   "source": [
    "def print_value(a=\"default\"):\n",
    "    print(a)\n",
    "    \n",
    "print_value(\"Test\")\n",
    "print_value()"
   ]
  },
  {
   "cell_type": "markdown",
   "id": "11b6ee5d",
   "metadata": {},
   "source": [
    "## Returning a value from a function"
   ]
  },
  {
   "cell_type": "markdown",
   "id": "0f013cde",
   "metadata": {},
   "source": [
    "Besides passing arguments to a function, you can also return values from functions. This way you can use the call the function when assigning to a variable or as input to another function. If you do not return anything, a function will return None by default."
   ]
  },
  {
   "cell_type": "markdown",
   "id": "693ad6e6",
   "metadata": {},
   "source": [
    "Below we define a function that sums to integers, it takes the two integers as parmeters and returns their sum."
   ]
  },
  {
   "cell_type": "code",
   "execution_count": 20,
   "id": "dcb286b8",
   "metadata": {},
   "outputs": [],
   "source": [
    "def sum_two_integers(a, b):\n",
    "    return a + b"
   ]
  },
  {
   "cell_type": "code",
   "execution_count": 23,
   "id": "a596ba87",
   "metadata": {},
   "outputs": [
    {
     "data": {
      "text/plain": [
       "1341235123"
      ]
     },
     "execution_count": 23,
     "metadata": {},
     "output_type": "execute_result"
    }
   ],
   "source": [
    "sum_two_integers(2, 4)"
   ]
  },
  {
   "cell_type": "code",
   "execution_count": 24,
   "id": "809bd7e4",
   "metadata": {},
   "outputs": [
    {
     "data": {
      "text/plain": [
       "1341235123"
      ]
     },
     "execution_count": 24,
     "metadata": {},
     "output_type": "execute_result"
    }
   ],
   "source": [
    "sum_two_integers(1000, 1341234123)"
   ]
  },
  {
   "cell_type": "code",
   "execution_count": 25,
   "id": "67f44369",
   "metadata": {},
   "outputs": [
    {
     "data": {
      "text/plain": [
       "-47"
      ]
     },
     "execution_count": 25,
     "metadata": {},
     "output_type": "execute_result"
    }
   ],
   "source": [
    "sum_two_integers(2, -49)"
   ]
  },
  {
   "cell_type": "markdown",
   "id": "59ef4a81",
   "metadata": {},
   "source": [
    "We can now also assign the output of this function to a variable."
   ]
  },
  {
   "cell_type": "code",
   "execution_count": 26,
   "id": "b1f8ff0b",
   "metadata": {},
   "outputs": [
    {
     "name": "stdout",
     "output_type": "stream",
     "text": [
      "-47\n"
     ]
    }
   ],
   "source": [
    "b = sum_two_integers(2, -49)\n",
    "print(b)"
   ]
  },
  {
   "cell_type": "markdown",
   "id": "742871d2",
   "metadata": {},
   "source": [
    "We can also call the function and provide its return value as the input to another function, in this case we pass its return value as an argument to the print() function."
   ]
  },
  {
   "cell_type": "code",
   "execution_count": 27,
   "id": "39c40cf7",
   "metadata": {},
   "outputs": [
    {
     "name": "stdout",
     "output_type": "stream",
     "text": [
      "-47\n"
     ]
    }
   ],
   "source": [
    "print(sum_two_integers(2, -49))"
   ]
  },
  {
   "cell_type": "markdown",
   "id": "9d265a55",
   "metadata": {},
   "source": [
    "Now we can even operate on the output of that function with another value."
   ]
  },
  {
   "cell_type": "code",
   "execution_count": 28,
   "id": "4f08e888",
   "metadata": {},
   "outputs": [
    {
     "name": "stdout",
     "output_type": "stream",
     "text": [
      "-18800\n"
     ]
    }
   ],
   "source": [
    "print(sum_two_integers(2, -49) * 400)"
   ]
  },
  {
   "cell_type": "markdown",
   "id": "986072b2",
   "metadata": {},
   "source": [
    "Returning exists the function, even returning nothing will exit the function (this will return None). Note that in the example below the print() function is not called."
   ]
  },
  {
   "cell_type": "code",
   "execution_count": 38,
   "id": "eeee941f",
   "metadata": {},
   "outputs": [],
   "source": [
    "def early_return():\n",
    "    return\n",
    "    print(\"test\")\n",
    "    \n",
    "early_return()"
   ]
  },
  {
   "cell_type": "markdown",
   "id": "8291942b",
   "metadata": {},
   "source": [
    "## Experimenting"
   ]
  },
  {
   "cell_type": "markdown",
   "id": "da23da0e",
   "metadata": {},
   "source": [
    "With the things we have learned so far we can already do some pretty interesting things. Did you know for example, you can also pass a function as an argument to another function> An example of this is shown below, see if you can figure out whats happening."
   ]
  },
  {
   "cell_type": "code",
   "execution_count": 30,
   "id": "edb76dd1",
   "metadata": {},
   "outputs": [
    {
     "name": "stdout",
     "output_type": "stream",
     "text": [
      "4\n"
     ]
    }
   ],
   "source": [
    "def add_one_and_print(i):\n",
    "    print(i+1)\n",
    "    \n",
    "def call_another_func_with_one_arg(func):\n",
    "    func(3)\n",
    "    \n",
    "call_another_func_with_one_arg(add_one_and_print)"
   ]
  },
  {
   "cell_type": "markdown",
   "id": "6ff9eebb",
   "metadata": {},
   "source": [
    "Make some new cells below to play around with functions. Can you make a function that returns the square of its argument?"
   ]
  },
  {
   "cell_type": "code",
   "execution_count": null,
   "id": "14ca046a",
   "metadata": {},
   "outputs": [],
   "source": []
  }
 ],
 "metadata": {
  "kernelspec": {
   "display_name": "Python 3 (ipykernel)",
   "language": "python",
   "name": "python3"
  },
  "language_info": {
   "codemirror_mode": {
    "name": "ipython",
    "version": 3
   },
   "file_extension": ".py",
   "mimetype": "text/x-python",
   "name": "python",
   "nbconvert_exporter": "python",
   "pygments_lexer": "ipython3",
   "version": "3.9.9"
  }
 },
 "nbformat": 4,
 "nbformat_minor": 5
}
