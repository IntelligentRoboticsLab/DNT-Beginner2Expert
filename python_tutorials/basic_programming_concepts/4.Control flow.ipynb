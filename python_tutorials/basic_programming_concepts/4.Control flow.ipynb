{
 "cells": [
  {
   "cell_type": "markdown",
   "id": "cae1ce93",
   "metadata": {},
   "source": [
    "if else"
   ]
  },
  {
   "cell_type": "markdown",
   "id": "e9a95d55",
   "metadata": {},
   "source": [
    "while"
   ]
  },
  {
   "cell_type": "markdown",
   "id": "d26ebd18",
   "metadata": {},
   "source": [
    "for"
   ]
  },
  {
   "cell_type": "markdown",
   "id": "d8d31401",
   "metadata": {},
   "source": [
    "continue"
   ]
  },
  {
   "cell_type": "markdown",
   "id": "e2f9a2ff",
   "metadata": {},
   "source": [
    "break"
   ]
  },
  {
   "cell_type": "markdown",
   "id": "4d33f783",
   "metadata": {},
   "source": [
    "return"
   ]
  },
  {
   "cell_type": "code",
   "execution_count": null,
   "id": "06824946",
   "metadata": {},
   "outputs": [],
   "source": []
  }
 ],
 "metadata": {
  "kernelspec": {
   "display_name": "Python 3 (ipykernel)",
   "language": "python",
   "name": "python3"
  },
  "language_info": {
   "codemirror_mode": {
    "name": "ipython",
    "version": 3
   },
   "file_extension": ".py",
   "mimetype": "text/x-python",
   "name": "python",
   "nbconvert_exporter": "python",
   "pygments_lexer": "ipython3",
   "version": "3.9.9"
  }
 },
 "nbformat": 4,
 "nbformat_minor": 5
}
