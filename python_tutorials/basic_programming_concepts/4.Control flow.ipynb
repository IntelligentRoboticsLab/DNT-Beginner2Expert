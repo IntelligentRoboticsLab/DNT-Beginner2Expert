{
 "cells": [
  {
   "cell_type": "markdown",
   "id": "31e6ed21",
   "metadata": {},
   "source": [
    "# Control flow statements"
   ]
  },
  {
   "cell_type": "markdown",
   "id": "d539e947",
   "metadata": {},
   "source": [
    "The control flow of the program is the order in which its code executes. In python there are several statements we can use to influence this order. These will be discussed in this notebook."
   ]
  },
  {
   "cell_type": "markdown",
   "id": "cae1ce93",
   "metadata": {},
   "source": [
    "# The if statement"
   ]
  },
  {
   "cell_type": "markdown",
   "id": "ae52e0fc",
   "metadata": {},
   "source": [
    "The if statement can be used to conditionaly execute a piece of code. For example the execution of the print function in the next cell is depedent on whether the variable a is True or False. See what happens if you change the contents of a. Whether an **if** statement is evaluates to True or False is dependent on boolean logic. To write an if statment, you first use the if keyword, followed by an expression that is evaluated (to either True or False). After the expression you write a colon and indent the code that you want to execute based on the evaluation of the expression.  "
   ]
  },
  {
   "cell_type": "code",
   "execution_count": 21,
   "id": "95bd0864",
   "metadata": {},
   "outputs": [
    {
     "name": "stdout",
     "output_type": "stream",
     "text": [
      "Hello world!\n",
      "Hello wolrd again!\n",
      "This is outside the if statement and is always executed\n"
     ]
    }
   ],
   "source": [
    "a = True\n",
    "\n",
    "if a:\n",
    "    print(\"Hello world!\")\n",
    "    print(\"Hello wolrd again!\")\n",
    "    \n",
    "print(\"This is outside the if statement and is always executed\")"
   ]
  },
  {
   "cell_type": "markdown",
   "id": "5452f419",
   "metadata": {},
   "source": [
    "You might want to do something else based on another condition. For example the following example the different clauses in the if statement execute different parts of the code depending on the contents of variable b. Additional clauses can be added with the **elif** keyword. Change the contents of the variable b to see how the piece of code that is executed changes."
   ]
  },
  {
   "cell_type": "code",
   "execution_count": 9,
   "id": "0d07f59f",
   "metadata": {},
   "outputs": [
    {
     "name": "stdout",
     "output_type": "stream",
     "text": [
      "b is between 100 and 1000\n"
     ]
    }
   ],
   "source": [
    "b = 134\n",
    "\n",
    "if b < 0:\n",
    "    print(\"b is negative\")\n",
    "elif b < 10:\n",
    "    print(\"b is between 0 and 10\")\n",
    "elif 100 < b and b < 1000:\n",
    "    print(\"b is between 100 and 1000\")"
   ]
  },
  {
   "cell_type": "markdown",
   "id": "14d25147",
   "metadata": {},
   "source": [
    "As you can see conditions can be chained using boolean logic. In python this is done using the **and**/**or** keywords. You might also want to execute a piece of code if all clauses fail. This can be done using the **else** keyword."
   ]
  },
  {
   "cell_type": "code",
   "execution_count": 12,
   "id": "ad24b872",
   "metadata": {},
   "outputs": [
    {
     "name": "stdout",
     "output_type": "stream",
     "text": [
      "b is too large\n"
     ]
    }
   ],
   "source": [
    "b = 13413412341234\n",
    "\n",
    "if b < 0:\n",
    "    print(\"b is negative\")\n",
    "elif b < 10:\n",
    "    print(\"b is between 0 and 10\")\n",
    "elif 100 < b and b < 1000:\n",
    "    print(\"b is between 100 and 1000\")\n",
    "else:\n",
    "    print(\"b is too large\")"
   ]
  },
  {
   "cell_type": "markdown",
   "id": "e2322eee",
   "metadata": {},
   "source": [
    "Not only booleans can be evaluated in if statements, all objects can be tested for truth value for use in a condition condition or as operand of boolean operations. There are some examples below."
   ]
  },
  {
   "cell_type": "markdown",
   "id": "4cf8c93e",
   "metadata": {},
   "source": [
    "All integers except of 0 evaluate to True."
   ]
  },
  {
   "cell_type": "code",
   "execution_count": 16,
   "id": "20cb41bd",
   "metadata": {},
   "outputs": [
    {
     "name": "stdout",
     "output_type": "stream",
     "text": [
      "1\n",
      "-6\n",
      "100\n"
     ]
    }
   ],
   "source": [
    "if 1:\n",
    "    print(\"1\")\n",
    "\n",
    "if 0:\n",
    "    print(\"0\")\n",
    "    \n",
    "if -6:\n",
    "    print(\"-6\")\n",
    "    \n",
    "if 100:\n",
    "    print(\"100\")"
   ]
  },
  {
   "cell_type": "markdown",
   "id": "f832fe73",
   "metadata": {},
   "source": [
    "Empty objects, like an empty string usually evaluate to False, while any other object evaluates to True. Later on, we will go into more detail on what an object is exactly."
   ]
  },
  {
   "cell_type": "code",
   "execution_count": 18,
   "id": "12ea4b1e",
   "metadata": {},
   "outputs": [],
   "source": [
    "if \"\":\n",
    "    print(\"empty string\")\n",
    "    \n",
    "if \"\":\n",
    "    print(\"non empty string\")"
   ]
  },
  {
   "cell_type": "markdown",
   "id": "7bf4f4d4",
   "metadata": {},
   "source": [
    "It might be interesting to note that the if statement can also be used in a few other cases, for example in the assignment of a variable. This is usually referred to as the **ternary operator**."
   ]
  },
  {
   "cell_type": "code",
   "execution_count": 20,
   "id": "4f718261",
   "metadata": {},
   "outputs": [
    {
     "name": "stdout",
     "output_type": "stream",
     "text": [
      "5\n"
     ]
    }
   ],
   "source": [
    "a = 5 if 4 > 3 else 9\n",
    "print(a)"
   ]
  },
  {
   "cell_type": "markdown",
   "id": "e9a95d55",
   "metadata": {},
   "source": [
    "## The while statement"
   ]
  },
  {
   "cell_type": "markdown",
   "id": "246ee487",
   "metadata": {},
   "source": [
    "The while statement/loop is used for executing a certain piece of code while a certain condition is True. Its syntax is similar to the if statement, but now using the **while** keyword."
   ]
  },
  {
   "cell_type": "code",
   "execution_count": 24,
   "id": "887d4ed5",
   "metadata": {},
   "outputs": [
    {
     "name": "stdout",
     "output_type": "stream",
     "text": [
      "2\n",
      "3\n",
      "4\n",
      "5\n",
      "6\n",
      "7\n",
      "8\n",
      "9\n",
      "This is outside the while loop and is always executed only once.\n"
     ]
    }
   ],
   "source": [
    "a = 2\n",
    "while a < 10:\n",
    "    print(a)\n",
    "    a += 1\n",
    "    \n",
    "print(\"This is outside the while loop and is always executed only once.\")"
   ]
  },
  {
   "cell_type": "markdown",
   "id": "c00d09ce",
   "metadata": {},
   "source": [
    "As you can see, you need to you do something in the body of the while loop to make sure that the condition of the while loop evaluates False at a certain point. Otherwise you will have an infinite loop."
   ]
  },
  {
   "cell_type": "markdown",
   "id": "d26ebd18",
   "metadata": {},
   "source": [
    "# The for statement"
   ]
  },
  {
   "cell_type": "markdown",
   "id": "6b34174d",
   "metadata": {},
   "source": [
    "The syntax of a for statement/loop. Is shown below."
   ]
  },
  {
   "cell_type": "markdown",
   "id": "f4f2a1b8",
   "metadata": {},
   "source": [
    "    for target in interable:\n",
    "        do something"
   ]
  },
  {
   "cell_type": "markdown",
   "id": "a5858178",
   "metadata": {},
   "source": [
    "The for statement is used to loop over iterables. An iterable may be any Python expression suitable as an argument to built-in function iter, which returns an iterator object (what a built-in function is and what an iterator object is will be dicsussed in more detaul later on). Here, target is an identifier that names the control variable of the loop; the for statement successively rebinds this variable to each item of the iterator, in order. In more simple terms, within the for loop this variable will, for each execution of the loop, take the value of the next item in the iterable. The statement or statements that comprise the loop body execute once for each item in iterable."
   ]
  },
  {
   "cell_type": "markdown",
   "id": "9598e7d8",
   "metadata": {},
   "source": [
    "Lets see what that looks like in practice. As an example we will loop over the characters of a string."
   ]
  },
  {
   "cell_type": "code",
   "execution_count": 31,
   "id": "cc0d98cb",
   "metadata": {},
   "outputs": [
    {
     "name": "stdout",
     "output_type": "stream",
     "text": [
      "e\n",
      "x\n",
      "a\n",
      "m\n",
      "p\n",
      "l\n",
      "e\n"
     ]
    }
   ],
   "source": [
    "for character in \"example\":\n",
    "    print(character)"
   ]
  },
  {
   "cell_type": "markdown",
   "id": "127b1b42",
   "metadata": {},
   "source": [
    "There are several keywords that can break out of a for loop to end its execution early or skip the execution of a single loop. The **continue** keyword will skip that execution of the loop and continue on the execution of the next loop."
   ]
  },
  {
   "cell_type": "code",
   "execution_count": 33,
   "id": "e1085c24",
   "metadata": {},
   "outputs": [
    {
     "name": "stdout",
     "output_type": "stream",
     "text": [
      "e\n",
      "x\n",
      "m\n",
      "p\n",
      "l\n",
      "e\n"
     ]
    }
   ],
   "source": [
    "for character in \"example\":\n",
    "    if character == \"a\":\n",
    "        continue\n",
    "    print(character)"
   ]
  },
  {
   "cell_type": "markdown",
   "id": "e2f9a2ff",
   "metadata": {},
   "source": [
    "We can use the **break** keyword to completely stop the execution of the loop. In the following example, we stop looping over the characters if a certain character is equal to \"a\"."
   ]
  },
  {
   "cell_type": "code",
   "execution_count": 34,
   "id": "bcefc7e5",
   "metadata": {},
   "outputs": [
    {
     "name": "stdout",
     "output_type": "stream",
     "text": [
      "e\n",
      "x\n"
     ]
    }
   ],
   "source": [
    "for character in \"example\":\n",
    "    if character == \"a\":\n",
    "        break\n",
    "    print(character)"
   ]
  },
  {
   "cell_type": "markdown",
   "id": "6348f7c3",
   "metadata": {},
   "source": [
    "Lastly, within a function we can use the **return** keyword to stop the execution of the entire function and of a loop contained in that function."
   ]
  },
  {
   "cell_type": "code",
   "execution_count": 39,
   "id": "c0e7e6e3",
   "metadata": {},
   "outputs": [
    {
     "name": "stdout",
     "output_type": "stream",
     "text": [
      "e\n",
      "x\n"
     ]
    }
   ],
   "source": [
    "def test_function():\n",
    "    for character in \"example\":\n",
    "        if character == \"a\":\n",
    "            return\n",
    "        print(character)\n",
    "\n",
    "test_function()"
   ]
  },
  {
   "cell_type": "markdown",
   "id": "b1c9b9ff",
   "metadata": {},
   "source": [
    "Play around with these different control flow statements. Can you define a function that returns the number of occurances of a certain character in a string that is passed as the argument to that function? The character we want to count is also passed as an argument. We have defined the function definition for you. Note the **pass** keyword. This keyword means do nothing. "
   ]
  },
  {
   "cell_type": "code",
   "execution_count": 49,
   "id": "2d2951bc",
   "metadata": {},
   "outputs": [],
   "source": [
    "def count_character_in_string(s, c):\n",
    "    # Here you can acces the string as the variable s and the character we are counting as the variable c.\n",
    "    pass"
   ]
  },
  {
   "cell_type": "markdown",
   "id": "ce371016",
   "metadata": {},
   "source": [
    "In the cell block below, we have written a simple test that checks if the count_character_in_string function can correctly count the number of \"e\"s in the string \"example for testing\". It checks if the value that is returned for the function called with those arguments is equal to three. The **assert** keyword checks if the expression that follows it evaluates to True. If it does not, it throws and error. This means that if you execute the following code block and nothing is printed, your code works as expected. "
   ]
  },
  {
   "cell_type": "code",
   "execution_count": 52,
   "id": "75f7fed9",
   "metadata": {},
   "outputs": [
    {
     "ename": "AssertionError",
     "evalue": "",
     "output_type": "error",
     "traceback": [
      "\u001b[0;31m---------------------------------------------------------------------------\u001b[0m",
      "\u001b[0;31mAssertionError\u001b[0m                            Traceback (most recent call last)",
      "Cell \u001b[0;32mIn [52], line 1\u001b[0m\n\u001b[0;32m----> 1\u001b[0m \u001b[38;5;28;01massert\u001b[39;00m count_character_in_string(\u001b[38;5;124m\"\u001b[39m\u001b[38;5;124mexample for testing\u001b[39m\u001b[38;5;124m\"\u001b[39m, \u001b[38;5;124m\"\u001b[39m\u001b[38;5;124me\u001b[39m\u001b[38;5;124m\"\u001b[39m) \u001b[38;5;241m==\u001b[39m \u001b[38;5;241m3\u001b[39m\n",
      "\u001b[0;31mAssertionError\u001b[0m: "
     ]
    }
   ],
   "source": [
    "assert count_character_in_string(\"example for testing\", \"e\") == 3"
   ]
  },
  {
   "cell_type": "code",
   "execution_count": null,
   "id": "0ba2e454",
   "metadata": {},
   "outputs": [],
   "source": []
  }
 ],
 "metadata": {
  "kernelspec": {
   "display_name": "Python 3 (ipykernel)",
   "language": "python",
   "name": "python3"
  },
  "language_info": {
   "codemirror_mode": {
    "name": "ipython",
    "version": 3
   },
   "file_extension": ".py",
   "mimetype": "text/x-python",
   "name": "python",
   "nbconvert_exporter": "python",
   "pygments_lexer": "ipython3",
   "version": "3.9.9"
  }
 },
 "nbformat": 4,
 "nbformat_minor": 5
}
