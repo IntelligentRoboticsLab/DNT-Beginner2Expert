{
 "cells": [
  {
   "cell_type": "markdown",
   "id": "dc15d0e4",
   "metadata": {},
   "source": [
    "*args, and **kwards as parameters"
   ]
  },
  {
   "cell_type": "markdown",
   "id": "2338c020",
   "metadata": {},
   "source": [
    "calling a function with certain keywords\n",
    "func(a = 4)"
   ]
  },
  {
   "cell_type": "markdown",
   "id": "5186ea32",
   "metadata": {},
   "source": [
    "Manipulating bits"
   ]
  },
  {
   "cell_type": "markdown",
   "id": "c6c67ec5",
   "metadata": {},
   "source": [
    "list comprehension"
   ]
  },
  {
   "cell_type": "markdown",
   "id": "52080d06",
   "metadata": {},
   "source": [
    "closure"
   ]
  },
  {
   "cell_type": "markdown",
   "id": "14a37231",
   "metadata": {},
   "source": [
    "decorators\n"
   ]
  },
  {
   "cell_type": "markdown",
   "id": "503a73e5",
   "metadata": {},
   "source": [
    "iterators"
   ]
  },
  {
   "cell_type": "markdown",
   "id": "1b6e06ab",
   "metadata": {},
   "source": [
    "generators"
   ]
  },
  {
   "cell_type": "markdown",
   "id": "329dfe46",
   "metadata": {},
   "source": [
    "exceptions"
   ]
  },
  {
   "cell_type": "markdown",
   "id": "84fa6ae7",
   "metadata": {},
   "source": [
    "networking"
   ]
  },
  {
   "cell_type": "markdown",
   "id": "43e93745",
   "metadata": {},
   "source": [
    "threads"
   ]
  },
  {
   "cell_type": "markdown",
   "id": "895797d0",
   "metadata": {},
   "source": [
    "scopes"
   ]
  },
  {
   "cell_type": "markdown",
   "id": "185eee38",
   "metadata": {},
   "source": [
    "file handeling"
   ]
  },
  {
   "cell_type": "markdown",
   "id": "e6bcc5c4",
   "metadata": {},
   "source": [
    "interactive interpreter"
   ]
  },
  {
   "cell_type": "markdown",
   "id": "cdc9fbe2",
   "metadata": {},
   "source": [
    "discussion on the typing system in a languages and a little bit more on the effect of using a interpreter vs compiler"
   ]
  },
  {
   "cell_type": "markdown",
   "id": "9d198580",
   "metadata": {},
   "source": [
    "Memory management is the process of efficiently allocating, de-allocating, and coordinating memory so that all the different processes run smoothly and can optimally access different system resources. Memory management also involves cleaning memory of objects that are no longer being accessed. So lets talk a little bit about how variables and different classes are stored in memory. Read [this](https://realpython.com/python-memory-management/) article to learn more about this topic. We have already learned that python is an intepreted language. How does this work in pratice? The interpreter itself is, just like the code you write yourself, also a program. Many different interpreters for python code have been written in different languages. The interpreter that is usually used is the cpython implementation and is a python interpreter written in c. So what happens if this program interprets our code? Before it interprets the code you have written, that code is first compiled down to a language that is more easily readable by computers, reffered to as bytecode."
   ]
  },
  {
   "cell_type": "code",
   "execution_count": null,
   "id": "88dc8278",
   "metadata": {},
   "outputs": [],
   "source": [
    "car = Car(\"red\")\n",
    "print(hex(id(car)))"
   ]
  },
  {
   "cell_type": "markdown",
   "id": "5675b503",
   "metadata": {},
   "source": [
    "## Call by reference vs call by value"
   ]
  },
  {
   "cell_type": "code",
   "execution_count": null,
   "id": "36427fa1",
   "metadata": {},
   "outputs": [],
   "source": []
  }
 ],
 "metadata": {
  "kernelspec": {
   "display_name": "Python 3 (ipykernel)",
   "language": "python",
   "name": "python3"
  },
  "language_info": {
   "codemirror_mode": {
    "name": "ipython",
    "version": 3
   },
   "file_extension": ".py",
   "mimetype": "text/x-python",
   "name": "python",
   "nbconvert_exporter": "python",
   "pygments_lexer": "ipython3",
   "version": "3.9.9"
  }
 },
 "nbformat": 4,
 "nbformat_minor": 5
}
