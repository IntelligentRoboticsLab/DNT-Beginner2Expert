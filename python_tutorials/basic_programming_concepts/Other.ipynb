{
 "cells": [
  {
   "cell_type": "markdown",
   "id": "dc15d0e4",
   "metadata": {},
   "source": [
    "*args, and **kwards as parameters"
   ]
  },
  {
   "cell_type": "markdown",
   "id": "2338c020",
   "metadata": {},
   "source": [
    "calling a function with certain keywords\n",
    "func(a = 4)"
   ]
  },
  {
   "cell_type": "markdown",
   "id": "5186ea32",
   "metadata": {},
   "source": [
    "Manipulating bits"
   ]
  },
  {
   "cell_type": "markdown",
   "id": "c6c67ec5",
   "metadata": {},
   "source": [
    "list comprehension"
   ]
  },
  {
   "cell_type": "markdown",
   "id": "52080d06",
   "metadata": {},
   "source": [
    "closure"
   ]
  },
  {
   "cell_type": "markdown",
   "id": "14a37231",
   "metadata": {},
   "source": [
    "decorators\n"
   ]
  },
  {
   "cell_type": "markdown",
   "id": "503a73e5",
   "metadata": {},
   "source": [
    "iterators"
   ]
  },
  {
   "cell_type": "markdown",
   "id": "1b6e06ab",
   "metadata": {},
   "source": [
    "generators"
   ]
  },
  {
   "cell_type": "markdown",
   "id": "329dfe46",
   "metadata": {},
   "source": [
    "exceptions"
   ]
  },
  {
   "cell_type": "markdown",
   "id": "84fa6ae7",
   "metadata": {},
   "source": [
    "networking"
   ]
  },
  {
   "cell_type": "markdown",
   "id": "43e93745",
   "metadata": {},
   "source": [
    "threads"
   ]
  },
  {
   "cell_type": "markdown",
   "id": "895797d0",
   "metadata": {},
   "source": [
    "scopes"
   ]
  },
  {
   "cell_type": "markdown",
   "id": "185eee38",
   "metadata": {},
   "source": [
    "file handeling"
   ]
  },
  {
   "cell_type": "markdown",
   "id": "e6bcc5c4",
   "metadata": {},
   "source": [
    "interactive interpreter"
   ]
  },
  {
   "cell_type": "code",
   "execution_count": null,
   "id": "e2c2d5b9",
   "metadata": {},
   "outputs": [],
   "source": []
  }
 ],
 "metadata": {
  "kernelspec": {
   "display_name": "Python 3 (ipykernel)",
   "language": "python",
   "name": "python3"
  },
  "language_info": {
   "codemirror_mode": {
    "name": "ipython",
    "version": 3
   },
   "file_extension": ".py",
   "mimetype": "text/x-python",
   "name": "python",
   "nbconvert_exporter": "python",
   "pygments_lexer": "ipython3",
   "version": "3.9.9"
  }
 },
 "nbformat": 4,
 "nbformat_minor": 5
}
