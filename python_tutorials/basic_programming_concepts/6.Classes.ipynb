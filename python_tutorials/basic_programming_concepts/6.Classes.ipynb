{
 "cells": [
  {
   "cell_type": "markdown",
   "id": "bb714f1d",
   "metadata": {},
   "source": [
    "# Defining your own types"
   ]
  },
  {
   "cell_type": "markdown",
   "id": "513b430c",
   "metadata": {},
   "source": [
    "We have already seen a few built-in types, like integers, floats and strings. Later on in this guide we will also look at more complex built-in types like lists and tuples. In this section we will show you how you can define your own types."
   ]
  },
  {
   "cell_type": "markdown",
   "id": "d7c90c7e",
   "metadata": {},
   "source": [
    "All data types are defined as objects or classes. Classes store information and certain associated functions. Classes are a usefull structure for structuring programms and keeping you information ordered and stored in clear way. Lets define a simple class ourselves, this can be done using the **class** keyword. The information we store in a class are called its properties or attributes. Making use of this model of using classes that have atrributes and associated functions is referred to as object oriented programming or OOP for short. In this case our car class has one attribute, color, which stores the color of the car. Usually, in python you define classes with a PascalCase naming convention. This means they start with a capitol and each new word in the name also starts with a capitol. If you want to learn more about different naming conventions take a look [here](https://en.wikipedia.org/wiki/Naming_convention_(programming))."
   ]
  },
  {
   "cell_type": "code",
   "execution_count": 27,
   "id": "4324f665",
   "metadata": {},
   "outputs": [],
   "source": [
    "class Car:\n",
    "    color = \"red\""
   ]
  },
  {
   "cell_type": "markdown",
   "id": "71ec47ae",
   "metadata": {},
   "source": [
    "Now we have defined a class, but how do we actually instanciate (make) an instance of that class? What this means exacly will become more clear as you read on. We can instanciate a class by writing the name of that class followed by brackets. After instanciating a class we can access its attributes by using a . notation. You can also modify it that way."
   ]
  },
  {
   "cell_type": "code",
   "execution_count": 29,
   "id": "7a6de28e",
   "metadata": {},
   "outputs": [
    {
     "name": "stdout",
     "output_type": "stream",
     "text": [
      "red\n",
      "purple\n"
     ]
    }
   ],
   "source": [
    "example_car = Car()\n",
    "print(example_car.color)\n",
    "\n",
    "example_car.color = \"purple\"\n",
    "print(example_car.color)"
   ]
  },
  {
   "cell_type": "markdown",
   "id": "e19e36c3",
   "metadata": {},
   "source": [
    "What if we want to be able to define car with different colors? To do that we can define an \\_\\_init\\_\\_() function. This function is called when an object is instanciated, this is also sometimes referred to as the constructor. We can use this function to set certain attributes. As an example we will redefine the car class."
   ]
  },
  {
   "cell_type": "code",
   "execution_count": 30,
   "id": "8f0cc4ec",
   "metadata": {},
   "outputs": [
    {
     "name": "stdout",
     "output_type": "stream",
     "text": [
      "I am instanciated now!\n",
      "purple\n"
     ]
    }
   ],
   "source": [
    "class Car:\n",
    "    def __init__(self, color):\n",
    "        print(\"I am instanciated now!\")\n",
    "        self.color = color\n",
    "        \n",
    "example_car1 = Car(\"blue\")\n",
    "print(example_car.color)"
   ]
  },
  {
   "cell_type": "markdown",
   "id": "79b710af",
   "metadata": {},
   "source": [
    "Now we can also define a second car with a differnt color from the first car."
   ]
  },
  {
   "cell_type": "code",
   "execution_count": 31,
   "id": "0f75ff6d",
   "metadata": {},
   "outputs": [
    {
     "name": "stdout",
     "output_type": "stream",
     "text": [
      "I am instanciated now!\n",
      "orange\n"
     ]
    }
   ],
   "source": [
    "example_car2 = Car(\"orange\")\n",
    "print(example_car2.color)"
   ]
  },
  {
   "cell_type": "markdown",
   "id": "93f43f90",
   "metadata": {},
   "source": [
    "There are several things to unpack here. First of all, when defining functions associated with a class they need to be indented as done in the example, just like attributes. In this case the \\_\\_init\\_\\_(), function is associated with the class Car. The second thing that might be new is the self keyword that is provided as the fist argument to the \\_\\_init\\_\\_() function. This is a variable that can now be used within that function to acces the attributes of the object. In this case it is used to set the attribute color to be the same as provided argument to the color parameter. The last thing that is new is the usage of the two underscores around the function name. These underscores are used when defining a number of special functions we will see other examples of such functions later on."
   ]
  },
  {
   "cell_type": "markdown",
   "id": "4de696a3",
   "metadata": {},
   "source": [
    "Lets define a function that prints out the color of the car for us. To call a function that is associated with a certain class you can acces that function just like you would an attribute and then call it by following that up with brackets."
   ]
  },
  {
   "cell_type": "code",
   "execution_count": 32,
   "id": "5f82f7cb",
   "metadata": {},
   "outputs": [
    {
     "name": "stdout",
     "output_type": "stream",
     "text": [
      "blue\n"
     ]
    }
   ],
   "source": [
    "class Car:\n",
    "    def __init__(self, color):\n",
    "        self.color = color\n",
    "        \n",
    "    def print_color(self):\n",
    "        print(self.color)\n",
    "        \n",
    "example_car = Car(\"blue\")\n",
    "example_car.print_color()"
   ]
  },
  {
   "cell_type": "markdown",
   "id": "5224a2be",
   "metadata": {},
   "source": [
    "You might have noticed that when you print built-in classes they will show you the value they contain. For example when you print and int, it will show the value of that integer. What happens if we print a car?"
   ]
  },
  {
   "cell_type": "code",
   "execution_count": 33,
   "id": "fb01d952",
   "metadata": {},
   "outputs": [
    {
     "name": "stdout",
     "output_type": "stream",
     "text": [
      "3\n",
      "<__main__.Car object at 0x7f0211d40f40>\n"
     ]
    }
   ],
   "source": [
    "a = 3\n",
    "print(a)\n",
    "print(example_car)"
   ]
  },
  {
   "cell_type": "markdown",
   "id": "ceaffaaf",
   "metadata": {},
   "source": [
    "Mhh, that is not very helpful. To define what is printed when you pass an object to a function we can define a special \\_\\_repr\\_\\_() function (short for representation). "
   ]
  },
  {
   "cell_type": "code",
   "execution_count": 39,
   "id": "1737acf6",
   "metadata": {},
   "outputs": [
    {
     "name": "stdout",
     "output_type": "stream",
     "text": [
      "blue\n"
     ]
    }
   ],
   "source": [
    "class Car:\n",
    "    def __init__(self, color):\n",
    "        self.color = color\n",
    "        \n",
    "    def __repr__(self):\n",
    "        return self.color\n",
    "        \n",
    "example_car = Car(\"blue\")\n",
    "print(example_car)"
   ]
  },
  {
   "cell_type": "markdown",
   "id": "acc5a883",
   "metadata": {},
   "source": [
    "In fact, in python everything is a class with associated functions. If we look at the + operation between integers for example we can that this is syntactic sugar for calling the special \\_\\_add\\_\\_() function on integers, we can also do this more explicitly, as is done in the follow example. If you want you can also define the \\_\\_add\\_\\_() function on classes you define yourself, which will enable you to use the + operator on that two instances of that class. What happens when we call a function? Calling a function is syntactic sugar for calling the \\_\\_call\\_\\_() function on an object"
   ]
  },
  {
   "cell_type": "code",
   "execution_count": 40,
   "id": "08e99972",
   "metadata": {},
   "outputs": [
    {
     "name": "stdout",
     "output_type": "stream",
     "text": [
      "4\n"
     ]
    }
   ],
   "source": [
    "a = 3\n",
    "print(a.__add__(1))"
   ]
  },
  {
   "cell_type": "markdown",
   "id": "d847a3ca",
   "metadata": {},
   "source": [
    "Lets give one more example of this principle. Function are classes as well, we have already seen this in a the previous chapter on functions and we can see it when we print a function."
   ]
  },
  {
   "cell_type": "code",
   "execution_count": 70,
   "id": "6cd427c5",
   "metadata": {},
   "outputs": [
    {
     "name": "stdout",
     "output_type": "stream",
     "text": [
      "<function test_func at 0x7f02113e9940>\n"
     ]
    }
   ],
   "source": [
    "def test_func():\n",
    "    print(\"Hello world!\")\n",
    "    \n",
    "print(test_func)"
   ]
  },
  {
   "cell_type": "markdown",
   "id": "79067ab5",
   "metadata": {},
   "source": [
    "What happens when we call a function? Calling a function is syntactic sugar for calling the \\_\\_call\\_\\_() function on an object, lets test this. In fact we can use the dir() function to see all the attributes a function has."
   ]
  },
  {
   "cell_type": "code",
   "execution_count": 74,
   "id": "38c70439",
   "metadata": {},
   "outputs": [
    {
     "name": "stdout",
     "output_type": "stream",
     "text": [
      "Hello world!\n"
     ]
    },
    {
     "data": {
      "text/plain": [
       "['__annotations__',\n",
       " '__call__',\n",
       " '__class__',\n",
       " '__closure__',\n",
       " '__code__',\n",
       " '__defaults__',\n",
       " '__delattr__',\n",
       " '__dict__',\n",
       " '__dir__',\n",
       " '__doc__',\n",
       " '__eq__',\n",
       " '__format__',\n",
       " '__ge__',\n",
       " '__get__',\n",
       " '__getattribute__',\n",
       " '__globals__',\n",
       " '__gt__',\n",
       " '__hash__',\n",
       " '__init__',\n",
       " '__init_subclass__',\n",
       " '__kwdefaults__',\n",
       " '__le__',\n",
       " '__lt__',\n",
       " '__module__',\n",
       " '__name__',\n",
       " '__ne__',\n",
       " '__new__',\n",
       " '__qualname__',\n",
       " '__reduce__',\n",
       " '__reduce_ex__',\n",
       " '__repr__',\n",
       " '__setattr__',\n",
       " '__sizeof__',\n",
       " '__str__',\n",
       " '__subclasshook__']"
      ]
     },
     "execution_count": 74,
     "metadata": {},
     "output_type": "execute_result"
    }
   ],
   "source": [
    "test_func.__call__()\n",
    "dir(test_func)"
   ]
  },
  {
   "cell_type": "markdown",
   "id": "548fb33c",
   "metadata": {},
   "source": [
    "We can define our own function class that can be called just as the built-in function class."
   ]
  },
  {
   "cell_type": "code",
   "execution_count": 77,
   "id": "50d61338",
   "metadata": {},
   "outputs": [
    {
     "name": "stdout",
     "output_type": "stream",
     "text": [
      "I am called\n"
     ]
    }
   ],
   "source": [
    "class NewFunc:\n",
    "    def __call__(self):\n",
    "        print(\"I am called\")\n",
    "\n",
    "test_func = NewFunc()\n",
    "test_func()"
   ]
  },
  {
   "cell_type": "markdown",
   "id": "d9eb5234",
   "metadata": {},
   "source": [
    "We could even change the \\_\\_call\\_\\_ property of the class to change the code that is executed when this new function class is called."
   ]
  },
  {
   "cell_type": "code",
   "execution_count": 80,
   "id": "dd639973",
   "metadata": {},
   "outputs": [
    {
     "name": "stdout",
     "output_type": "stream",
     "text": [
      "New call function\n"
     ]
    }
   ],
   "source": [
    "def new_call(self):\n",
    "    print(\"New call function\")\n",
    "\n",
    "NewFunc.__call__ = new_call\n",
    "test_func()"
   ]
  },
  {
   "cell_type": "markdown",
   "id": "59633860",
   "metadata": {},
   "source": [
    "This is a pretty powerful principle, that might take some to get your head around, everything that happens is defined in the background by these special functions. Play around with this a little. We have provided a reimplemented car class. Find out what as change and make some modifications yourself."
   ]
  },
  {
   "cell_type": "code",
   "execution_count": 82,
   "id": "c6044db6",
   "metadata": {},
   "outputs": [],
   "source": [
    "class Car:\n",
    "    def __init__(self, color, size, cost):\n",
    "        self.color = color\n",
    "        self.size = size\n",
    "        self.cost = cost\n",
    "        \n",
    "    def __repr__(self):\n",
    "        return f\"color: {self.color}, size: {self.size}, cost: {self.cost}\"\n",
    "    \n",
    "    def get_cost(self):\n",
    "        return self.cost\n",
    "    \n",
    "    def change_color(self, new_color):\n",
    "        self.color = new_color"
   ]
  },
  {
   "cell_type": "markdown",
   "id": "ffa378a6",
   "metadata": {},
   "source": [
    "# Call by reference vs call by value"
   ]
  },
  {
   "cell_type": "markdown",
   "id": "bcdca705",
   "metadata": {},
   "source": [
    "Lets talk a little bit about how variables and different classes are stored in memory.\n",
    "\n"
   ]
  },
  {
   "cell_type": "markdown",
   "id": "388c3321",
   "metadata": {},
   "source": [
    "# Inheritance"
   ]
  },
  {
   "cell_type": "markdown",
   "id": "564ffc0e",
   "metadata": {},
   "source": [
    "TODO\n",
    "- overloading\n",
    "- poly morphism"
   ]
  },
  {
   "cell_type": "code",
   "execution_count": null,
   "id": "a2fc6e76",
   "metadata": {},
   "outputs": [],
   "source": []
  }
 ],
 "metadata": {
  "kernelspec": {
   "display_name": "Python 3 (ipykernel)",
   "language": "python",
   "name": "python3"
  },
  "language_info": {
   "codemirror_mode": {
    "name": "ipython",
    "version": 3
   },
   "file_extension": ".py",
   "mimetype": "text/x-python",
   "name": "python",
   "nbconvert_exporter": "python",
   "pygments_lexer": "ipython3",
   "version": "3.9.9"
  }
 },
 "nbformat": 4,
 "nbformat_minor": 5
}
