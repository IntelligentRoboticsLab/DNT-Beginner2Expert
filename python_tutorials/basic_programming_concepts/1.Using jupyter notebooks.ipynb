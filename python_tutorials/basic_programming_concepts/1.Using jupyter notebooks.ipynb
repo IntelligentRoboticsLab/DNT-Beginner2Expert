{
 "cells": [
  {
   "cell_type": "markdown",
   "id": "4a79aaae",
   "metadata": {},
   "source": [
    "# Using jupyter notebooks"
   ]
  },
  {
   "cell_type": "markdown",
   "id": "be0d86cc",
   "metadata": {},
   "source": [
    "A jupyter notebook consists of two type of cells. Markdown cells and code cells. This is a markdown cell and can be used to document the code supporting. Markdown is a lightweight markup language that you can use to add formatting elements to plaintext text documents. In jupyter notebooks it supports usefull features like latex for writing mathematical equations. For more information on markdown syntax you can look [here](https://www.markdownguide.org/getting-started/). Each cell in a jupyter notebook can be executed by pressing **Ctrl+Enter**. Try executing the code cell below, which you might already be familiar with."
   ]
  },
  {
   "cell_type": "code",
   "execution_count": 4,
   "id": "a9a329f2",
   "metadata": {},
   "outputs": [
    {
     "name": "stdout",
     "output_type": "stream",
     "text": [
      "Hello world!\n"
     ]
    }
   ],
   "source": [
    "# This is a code cell\n",
    "print(\"Hello world!\")"
   ]
  },
  {
   "cell_type": "markdown",
   "id": "7e9b29a6",
   "metadata": {},
   "source": [
    "You can do all necessary operations using the menu in the top, however there are some useful short cuts. You can add a cell above the current cell using the shortcut **a**. When you use this shortcut, make sure you are not currently editing that cell, you can stop editing a cell by pressing **Esc**. You can also insert a new cell below the current cell by using the shortcut **b**. To edit a cell you can simply click on it or press **Enter** when it is selected."
   ]
  },
  {
   "cell_type": "markdown",
   "id": "2607b407",
   "metadata": {},
   "source": [
    "To copy a cell you can use **c** and to paste a cell you can use **v**. Changing the cell type from markdown to code and back is easy and can be done using **m** and **y**. Lastly, you can use **dd** to delete a cell. Play around with this below. Make a few new cells and edit them. There are many other shortcuts you can explore, they are all found in the menu above."
   ]
  },
  {
   "cell_type": "code",
   "execution_count": null,
   "id": "5f2e477f",
   "metadata": {},
   "outputs": [],
   "source": []
  }
 ],
 "metadata": {
  "kernelspec": {
   "display_name": "Python 3 (ipykernel)",
   "language": "python",
   "name": "python3"
  },
  "language_info": {
   "codemirror_mode": {
    "name": "ipython",
    "version": 3
   },
   "file_extension": ".py",
   "mimetype": "text/x-python",
   "name": "python",
   "nbconvert_exporter": "python",
   "pygments_lexer": "ipython3",
   "version": "3.9.9"
  }
 },
 "nbformat": 4,
 "nbformat_minor": 5
}
