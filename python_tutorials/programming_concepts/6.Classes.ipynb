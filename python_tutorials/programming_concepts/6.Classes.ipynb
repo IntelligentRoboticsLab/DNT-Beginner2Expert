{
 "cells": [
  {
   "cell_type": "markdown",
   "id": "bb714f1d",
   "metadata": {},
   "source": [
    "# Defining your own types"
   ]
  },
  {
   "cell_type": "markdown",
   "id": "513b430c",
   "metadata": {},
   "source": [
    "We have already seen a few built-in types, like integers, floats and strings. Later on in this guide we will also look at more complex built-in types like lists and tuples. In this section we will show you how you can define your own types."
   ]
  },
  {
   "cell_type": "markdown",
   "id": "d7c90c7e",
   "metadata": {},
   "source": [
    "All data types are defined as classes. When classes are instanciated as objects, they store some information and certain associated functions (what this means exactly will become more clear along the way). Objects are a usefull structure for structuring programms and keeping you information ordered and stored in clear way. Lets define a simple class ourselves, this can be done using the **class** keyword. The information we store in a class are called its properties or attributes. Making use of this model of using objects that have atrributes and associated functions is referred to as object oriented programming or OOP for short. In this case our car class has one attribute, color, which stores the color of the car. Usually, in python you define classes with a PascalCase naming convention. This means they start with a capitol and each new word in the name also starts with a capitol. If you want to learn more about different naming conventions take a look [here](https://en.wikipedia.org/wiki/Naming_convention_(programming))."
   ]
  },
  {
   "cell_type": "code",
   "execution_count": 33,
   "id": "4324f665",
   "metadata": {},
   "outputs": [],
   "source": [
    "class Car:\n",
    "    color = \"red\""
   ]
  },
  {
   "cell_type": "markdown",
   "id": "71ec47ae",
   "metadata": {},
   "source": [
    "Now we have defined a class, but how do we actually instanciate (make) an instance of that class (an instance of a class is also referred to as an object)? What this means exacly will become more clear as you read on. We can instanciate a class by writing the name of that class followed by brackets. After instanciating a class we can access its attributes by using a . notation. You can also modify it that way."
   ]
  },
  {
   "cell_type": "code",
   "execution_count": 34,
   "id": "7a6de28e",
   "metadata": {},
   "outputs": [
    {
     "name": "stdout",
     "output_type": "stream",
     "text": [
      "red\n",
      "purple\n"
     ]
    }
   ],
   "source": [
    "example_car = Car()\n",
    "print(example_car.color)\n",
    "\n",
    "example_car.color = \"purple\"\n",
    "print(example_car.color)"
   ]
  },
  {
   "cell_type": "markdown",
   "id": "e19e36c3",
   "metadata": {},
   "source": [
    "What if we want to be able to define car with different colors? To do that we can define an \\_\\_init\\_\\_() function. This function is called when an object is instanciated, this is also sometimes referred to as the constructor. We can use this function to set certain attributes. As an example we will redefine the car class. When a function is associated with a certain object we tend to refer to that function, not as a function, but as a method. You can see a class as a blueprint for how to make objects, making that object (instanciating it) is done by calling the constructor of a certain class (in python, this is the \\_\\_init\\_\\_() method)."
   ]
  },
  {
   "cell_type": "code",
   "execution_count": 35,
   "id": "8f0cc4ec",
   "metadata": {},
   "outputs": [
    {
     "name": "stdout",
     "output_type": "stream",
     "text": [
      "I am instanciated now!\n",
      "purple\n"
     ]
    }
   ],
   "source": [
    "class Car:\n",
    "    def __init__(self, color):\n",
    "        print(\"I am instanciated now!\")\n",
    "        self.color = color\n",
    "        \n",
    "example_car1 = Car(\"blue\")\n",
    "print(example_car.color)"
   ]
  },
  {
   "cell_type": "markdown",
   "id": "79b710af",
   "metadata": {},
   "source": [
    "Now we can also define a second car with a different color from the first car."
   ]
  },
  {
   "cell_type": "code",
   "execution_count": 36,
   "id": "0f75ff6d",
   "metadata": {},
   "outputs": [
    {
     "name": "stdout",
     "output_type": "stream",
     "text": [
      "I am instanciated now!\n",
      "orange\n"
     ]
    }
   ],
   "source": [
    "example_car2 = Car(\"orange\")\n",
    "print(example_car2.color)"
   ]
  },
  {
   "cell_type": "markdown",
   "id": "93f43f90",
   "metadata": {},
   "source": [
    "There are several things to unpack here. First of all, when defining methods they need to be indented as done in the example, just like attributes. In this case the \\_\\_init\\_\\_(), method is associated with the class Car. The second thing that might be new is the self keyword that is provided as the fist argument to the \\_\\_init\\_\\_() function. This is a variable that can now be used within that function to acces the attributes of the object. In this case it is used to set the attribute color to be the same as provided argument to the color parameter. When you define methods for a class, it as is necessary to always provide self as the first parameter of that method. The last thing that is new, is the usage of the two underscores around the function name. These underscores are used when defining a number of special methods, we will see other examples of such methods later on."
   ]
  },
  {
   "cell_type": "markdown",
   "id": "4de696a3",
   "metadata": {},
   "source": [
    "Lets define a method that prints out the color of the car for us. To call a method that is associated with a certain object you can acces that method just like you would an attribute and then call it by following that up with brackets. You could see the."
   ]
  },
  {
   "cell_type": "code",
   "execution_count": 37,
   "id": "5f82f7cb",
   "metadata": {},
   "outputs": [
    {
     "name": "stdout",
     "output_type": "stream",
     "text": [
      "blue\n"
     ]
    }
   ],
   "source": [
    "class Car:\n",
    "    def __init__(self, color):\n",
    "        self.color = color\n",
    "        \n",
    "    def print_color(self):\n",
    "        print(self.color)\n",
    "        \n",
    "example_car = Car(\"blue\")\n",
    "example_car.print_color()"
   ]
  },
  {
   "cell_type": "markdown",
   "id": "5224a2be",
   "metadata": {},
   "source": [
    "You might have noticed that when you print built-in classes they will show you the value they contain. For example when you print and int, it will show the value of that integer. What happens if we print a car?"
   ]
  },
  {
   "cell_type": "code",
   "execution_count": 38,
   "id": "fb01d952",
   "metadata": {},
   "outputs": [
    {
     "name": "stdout",
     "output_type": "stream",
     "text": [
      "3\n",
      "<__main__.Car object at 0x7fb684048190>\n"
     ]
    }
   ],
   "source": [
    "a = 3\n",
    "print(a)\n",
    "print(example_car)"
   ]
  },
  {
   "cell_type": "markdown",
   "id": "ceaffaaf",
   "metadata": {},
   "source": [
    "Mhh, that is not very helpful. To define what is printed when you pass an object to a function we can define a special \\_\\_repr\\_\\_() method (short for representation). This method should be implemented in such that it returns a string representation of the object."
   ]
  },
  {
   "cell_type": "code",
   "execution_count": 39,
   "id": "1737acf6",
   "metadata": {},
   "outputs": [
    {
     "name": "stdout",
     "output_type": "stream",
     "text": [
      "blue\n"
     ]
    }
   ],
   "source": [
    "class Car:\n",
    "    def __init__(self, color):\n",
    "        self.color = color\n",
    "        \n",
    "    def __repr__(self):\n",
    "        return self.color\n",
    "        \n",
    "example_car = Car(\"blue\")\n",
    "print(example_car)"
   ]
  },
  {
   "cell_type": "markdown",
   "id": "acc5a883",
   "metadata": {},
   "source": [
    "In fact, in python everything is a class with associated functions. If we look at the + operation between integers for example we can that this is syntactic sugar for calling the special \\_\\_add\\_\\_() function on integers, we can also do this more explicitly, as is done in the follow example. If you want you can also define the \\_\\_add\\_\\_() function on classes you define yourself, which will enable you to use the + operator on that two instances of that class. What happens when we call a function? Calling a function is syntactic sugar for calling the \\_\\_call\\_\\_() function on an object"
   ]
  },
  {
   "cell_type": "code",
   "execution_count": 40,
   "id": "08e99972",
   "metadata": {},
   "outputs": [
    {
     "name": "stdout",
     "output_type": "stream",
     "text": [
      "4\n"
     ]
    }
   ],
   "source": [
    "a = 3\n",
    "print(a.__add__(1))"
   ]
  },
  {
   "cell_type": "markdown",
   "id": "d847a3ca",
   "metadata": {},
   "source": [
    "Lets give one more example of this principle. Function are classes as well, we have already seen this in a the previous chapter on functions and we can see it when we print a function."
   ]
  },
  {
   "cell_type": "code",
   "execution_count": 41,
   "id": "6cd427c5",
   "metadata": {},
   "outputs": [
    {
     "name": "stdout",
     "output_type": "stream",
     "text": [
      "<function test_func at 0x7fb6664e3040>\n"
     ]
    }
   ],
   "source": [
    "def test_func():\n",
    "    print(\"Hello world!\")\n",
    "    \n",
    "print(test_func)"
   ]
  },
  {
   "cell_type": "markdown",
   "id": "79067ab5",
   "metadata": {},
   "source": [
    "What happens when we call a function? Calling a function is syntactic sugar for calling the \\_\\_call\\_\\_() function on an object, lets test this. In fact we can use the dir() function to see all the attributes a function has."
   ]
  },
  {
   "cell_type": "code",
   "execution_count": 42,
   "id": "38c70439",
   "metadata": {},
   "outputs": [
    {
     "name": "stdout",
     "output_type": "stream",
     "text": [
      "Hello world!\n"
     ]
    },
    {
     "data": {
      "text/plain": [
       "['__annotations__',\n",
       " '__call__',\n",
       " '__class__',\n",
       " '__closure__',\n",
       " '__code__',\n",
       " '__defaults__',\n",
       " '__delattr__',\n",
       " '__dict__',\n",
       " '__dir__',\n",
       " '__doc__',\n",
       " '__eq__',\n",
       " '__format__',\n",
       " '__ge__',\n",
       " '__get__',\n",
       " '__getattribute__',\n",
       " '__globals__',\n",
       " '__gt__',\n",
       " '__hash__',\n",
       " '__init__',\n",
       " '__init_subclass__',\n",
       " '__kwdefaults__',\n",
       " '__le__',\n",
       " '__lt__',\n",
       " '__module__',\n",
       " '__name__',\n",
       " '__ne__',\n",
       " '__new__',\n",
       " '__qualname__',\n",
       " '__reduce__',\n",
       " '__reduce_ex__',\n",
       " '__repr__',\n",
       " '__setattr__',\n",
       " '__sizeof__',\n",
       " '__str__',\n",
       " '__subclasshook__']"
      ]
     },
     "execution_count": 42,
     "metadata": {},
     "output_type": "execute_result"
    }
   ],
   "source": [
    "test_func.__call__()\n",
    "dir(test_func)"
   ]
  },
  {
   "cell_type": "markdown",
   "id": "548fb33c",
   "metadata": {},
   "source": [
    "We can define our own function class that can be called just as the built-in function class."
   ]
  },
  {
   "cell_type": "code",
   "execution_count": 43,
   "id": "50d61338",
   "metadata": {},
   "outputs": [
    {
     "name": "stdout",
     "output_type": "stream",
     "text": [
      "I am called\n"
     ]
    }
   ],
   "source": [
    "class NewFunc:\n",
    "    def __call__(self):\n",
    "        print(\"I am called\")\n",
    "\n",
    "test_func = NewFunc()\n",
    "test_func()"
   ]
  },
  {
   "cell_type": "markdown",
   "id": "d9eb5234",
   "metadata": {},
   "source": [
    "We could even change the \\_\\_call\\_\\_ property of the class to change the code that is executed when this new function class is called."
   ]
  },
  {
   "cell_type": "code",
   "execution_count": 44,
   "id": "dd639973",
   "metadata": {},
   "outputs": [
    {
     "name": "stdout",
     "output_type": "stream",
     "text": [
      "New call function\n"
     ]
    }
   ],
   "source": [
    "def new_call(self):\n",
    "    print(\"New call function\")\n",
    "\n",
    "NewFunc.__call__ = new_call\n",
    "test_func()"
   ]
  },
  {
   "cell_type": "markdown",
   "id": "59633860",
   "metadata": {},
   "source": [
    "This is a pretty powerful principle, that might take some to get your head around, all higher level sytax or functions are defined by some protocol and implemented using special methods associated to those protocols on objects (these methods are often referred to as dubbel underscore methods, or dunder methods). Play around with this a little. We have provided a reimplemented car class. Find out what has changed and make some modifications yourself. If you want to read more on dunder methods and the python data model, take a look [here](https://docs.python.org/3/reference/datamodel.html). A very interesting video that goes into this at a much deeper level can be found [here](https://www.youtube.com/watch?v=cKPlPJyQrt4)."
   ]
  },
  {
   "cell_type": "markdown",
   "id": "388c3321",
   "metadata": {},
   "source": [
    "# Inheritance and composition"
   ]
  },
  {
   "cell_type": "markdown",
   "id": "d33c8aa3",
   "metadata": {},
   "source": [
    "In this section, we will take a look at inheritance and composition. If you want to learn more about these principles in python take a look [here](https://realpython.com/inheritance-composition-python/).\n"
   ]
  },
  {
   "cell_type": "markdown",
   "id": "86adec17",
   "metadata": {},
   "source": [
    "## Inheritance"
   ]
  },
  {
   "cell_type": "markdown",
   "id": "b6e3d3c1",
   "metadata": {},
   "source": [
    "Lets define a simple class with no properties."
   ]
  },
  {
   "cell_type": "code",
   "execution_count": 45,
   "id": "a008a49c",
   "metadata": {},
   "outputs": [
    {
     "data": {
      "text/plain": [
       "['__class__',\n",
       " '__delattr__',\n",
       " '__dict__',\n",
       " '__dir__',\n",
       " '__doc__',\n",
       " '__eq__',\n",
       " '__format__',\n",
       " '__ge__',\n",
       " '__getattribute__',\n",
       " '__gt__',\n",
       " '__hash__',\n",
       " '__init__',\n",
       " '__init_subclass__',\n",
       " '__le__',\n",
       " '__lt__',\n",
       " '__module__',\n",
       " '__ne__',\n",
       " '__new__',\n",
       " '__reduce__',\n",
       " '__reduce_ex__',\n",
       " '__repr__',\n",
       " '__setattr__',\n",
       " '__sizeof__',\n",
       " '__str__',\n",
       " '__subclasshook__',\n",
       " '__weakref__']"
      ]
     },
     "execution_count": 45,
     "metadata": {},
     "output_type": "execute_result"
    }
   ],
   "source": [
    "class SimpleClass:\n",
    "    pass\n",
    "\n",
    "instanciation = SimpleClass()\n",
    "dir(instanciation)"
   ]
  },
  {
   "cell_type": "markdown",
   "id": "192ad3eb",
   "metadata": {},
   "source": [
    "When we look more closesly, remebering we can use the dir() function to see the properties of an attribute, it might be suprising to find that this class does in fact have properties. How come?"
   ]
  },
  {
   "cell_type": "markdown",
   "id": "3a8b4623",
   "metadata": {},
   "source": [
    "This is because every class you create in Python implicitly derives from ```object```. You could be more explicit and write ```class SimpleClass(object):```. When a class derives from another class it means that that class defines a new class with little or no modification to that existing class it derives from. This new class is referred to as the derived class and the one from which it inherits is called the base class. Many different classes can derive from a base class. These classes then all share that same interface from the base class. The system of being able to derive from a class and the specialize the interface by providing a particular implementation is referred to as inheritance. Lets see how this works in practice. Lets first define a base class Person with a first and last name."
   ]
  },
  {
   "cell_type": "code",
   "execution_count": 46,
   "id": "571b9578",
   "metadata": {},
   "outputs": [],
   "source": [
    "class Person:\n",
    "    def __init__(self, first_name, last_name, birth_year):\n",
    "        self.first_name = first_name\n",
    "        self.last_name = last_name\n",
    "        self.birth_year = birth_year"
   ]
  },
  {
   "cell_type": "markdown",
   "id": "e1371ee6",
   "metadata": {},
   "source": [
    "We can now define a new class that is deriving from this person class. Lets call this class Student. A student is also a person, a student also has a first and last name, so when we instanciate a student object, we will need to pass a first and last name. Additionaly, a student will also have a school that they go to, which will pass as an additional argument. To set the ```first_name``` and ```last_name``` attributes of a student we can call the constructor of the base class with the appropriate arguments. For this student, lets also define a function that calculates the age based on a persons birth year and the current year."
   ]
  },
  {
   "cell_type": "code",
   "execution_count": 47,
   "id": "3dbfdc04",
   "metadata": {},
   "outputs": [
    {
     "data": {
      "text/plain": [
       "23"
      ]
     },
     "execution_count": 47,
     "metadata": {},
     "output_type": "execute_result"
    }
   ],
   "source": [
    "class Student(Person):\n",
    "    def __init__(self, first_name, last_name, birth_year, school):\n",
    "        Person.__init__(self, first_name, last_name, birth_year)\n",
    "        self.school = school\n",
    "        \n",
    "    def calculate_age(self, current_year):\n",
    "        return current_year - self.birth_year\n",
    "\n",
    "thomas = Teacher(\"Thomas\", \"Smith\", 1999, \"UvA\")\n",
    "thomas.calculate_age(2022)"
   ]
  },
  {
   "cell_type": "markdown",
   "id": "9486318b",
   "metadata": {},
   "source": [
    "Now lets define another class that derives from person, this class is the Teacher class. Notice that instead of referring to the Person class directly, we can instead refer to the base class using the ```super()```. "
   ]
  },
  {
   "cell_type": "code",
   "execution_count": 48,
   "id": "52688d18",
   "metadata": {},
   "outputs": [
    {
     "data": {
      "text/plain": [
       "46"
      ]
     },
     "execution_count": 48,
     "metadata": {},
     "output_type": "execute_result"
    }
   ],
   "source": [
    "class Teacher(Person):\n",
    "    def __init__(self, first_name, last_name, birth_year, salary):\n",
    "        super().__init__(first_name, last_name, birth_year)\n",
    "        self.salary = salary\n",
    "        \n",
    "    def calculate_age(self, current_year):\n",
    "        return current_year - self.birth_year\n",
    "\n",
    "bob = Student(\"Bob\", \"Smith\", 1976, \"UvA\")\n",
    "bob.calculate_age(2022)"
   ]
  },
  {
   "cell_type": "markdown",
   "id": "f4e68523",
   "metadata": {},
   "source": [
    "For both the Teacher and the student we have implemented a function calculate_age. This function can be moved to the base class removing the duplicated code. Removing duplicated code is almost always a good idea, it makes it easier to understand and refactor the code. Python support multiple inheritance, which means that a class can inherit from multiple other classes."
   ]
  },
  {
   "cell_type": "markdown",
   "id": "c4cd0848",
   "metadata": {},
   "source": [
    "The pattern in object oriented programming in which different classes have different functionality while sharing a common interface is called polymorphism."
   ]
  },
  {
   "cell_type": "markdown",
   "id": "5bc23b90",
   "metadata": {},
   "source": [
    "## Composition"
   ]
  },
  {
   "cell_type": "markdown",
   "id": "fc7e7359",
   "metadata": {},
   "source": [
    "Classes can not only inherit attributes from other classes, they can also have other classes as attributes."
   ]
  },
  {
   "cell_type": "code",
   "execution_count": 53,
   "id": "f0704f8d",
   "metadata": {},
   "outputs": [
    {
     "name": "stdout",
     "output_type": "stream",
     "text": [
      "red\n"
     ]
    }
   ],
   "source": [
    "class CarOwner(Person):\n",
    "    def __init__(self, first_name, last_name, birth_year, car):\n",
    "        super().__init__(first_name, last_name, birth_year)\n",
    "        self.car = car\n",
    "        \n",
    "bobs_car = Car(\"red\")\n",
    "bob = CarOwner(\"Bob\", \"Smith\", 1976, bobs_car)\n",
    "\n",
    "print(bob.car.color)"
   ]
  }
 ],
 "metadata": {
  "kernelspec": {
   "display_name": "Python 3 (ipykernel)",
   "language": "python",
   "name": "python3"
  },
  "language_info": {
   "codemirror_mode": {
    "name": "ipython",
    "version": 3
   },
   "file_extension": ".py",
   "mimetype": "text/x-python",
   "name": "python",
   "nbconvert_exporter": "python",
   "pygments_lexer": "ipython3",
   "version": "3.9.9"
  }
 },
 "nbformat": 4,
 "nbformat_minor": 5
}
