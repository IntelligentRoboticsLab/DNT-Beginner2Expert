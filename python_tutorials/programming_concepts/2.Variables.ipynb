{
 "cells": [
  {
   "cell_type": "markdown",
   "id": "c113b5f2",
   "metadata": {},
   "source": [
    "# Variables"
   ]
  },
  {
   "cell_type": "markdown",
   "id": "e405c435",
   "metadata": {},
   "source": [
    "When programming, you want to be able to store information. A variable is a reserved memory location used to store information. For example in the next cell we define a new variable that stores the value 3. We can see this when we pass the variable to the print function to print it to the console."
   ]
  },
  {
   "cell_type": "code",
   "execution_count": 6,
   "id": "26d85f59",
   "metadata": {},
   "outputs": [
    {
     "name": "stdout",
     "output_type": "stream",
     "text": [
      "5\n"
     ]
    }
   ],
   "source": [
    "a = 5\n",
    "print(a)"
   ]
  },
  {
   "cell_type": "markdown",
   "id": "8049f3db",
   "metadata": {},
   "source": [
    "This variable is now stored on your computer and we can even see where it is stored by using the id() function. This is the address in the memory of your computer where the value of this variable is stored."
   ]
  },
  {
   "cell_type": "code",
   "execution_count": 13,
   "id": "b0abab93",
   "metadata": {},
   "outputs": [
    {
     "data": {
      "text/plain": [
       "'0x7f4aa558b9b0'"
      ]
     },
     "execution_count": 13,
     "metadata": {},
     "output_type": "execute_result"
    }
   ],
   "source": [
    "hex(id(a))"
   ]
  },
  {
   "cell_type": "markdown",
   "id": "3883c57e",
   "metadata": {},
   "source": [
    "Each variable has a certain type. The variable a as the type int. An int is short for integer. To see what the type of a variable is you can use the function type(). Pass the variable of which you want to see the type as an argument to that function as follows. "
   ]
  },
  {
   "cell_type": "code",
   "execution_count": 7,
   "id": "a9a95429",
   "metadata": {},
   "outputs": [
    {
     "data": {
      "text/plain": [
       "int"
      ]
     },
     "execution_count": 7,
     "metadata": {},
     "output_type": "execute_result"
    }
   ],
   "source": [
    "type(a)"
   ]
  },
  {
   "cell_type": "markdown",
   "id": "332ef214",
   "metadata": {},
   "source": [
    "We can also define a variable of the type str, which is short for string, a sequence of characters."
   ]
  },
  {
   "cell_type": "code",
   "execution_count": 15,
   "id": "5bdb423f",
   "metadata": {},
   "outputs": [
    {
     "name": "stdout",
     "output_type": "stream",
     "text": [
      "Hello world!\n"
     ]
    },
    {
     "data": {
      "text/plain": [
       "str"
      ]
     },
     "execution_count": 15,
     "metadata": {},
     "output_type": "execute_result"
    }
   ],
   "source": [
    "b = \"Hello world!\"\n",
    "print(b)\n",
    "type(b)"
   ]
  },
  {
   "cell_type": "markdown",
   "id": "2a3ce075",
   "metadata": {},
   "source": [
    "There are a number of built-in types at which we will now take a look. For a list of all built-in types take a look [here](https://docs.python.org/3/library/)."
   ]
  },
  {
   "cell_type": "markdown",
   "id": "038ea95f",
   "metadata": {},
   "source": [
    "# Built-in types"
   ]
  },
  {
   "cell_type": "markdown",
   "id": "462c6666",
   "metadata": {},
   "source": [
    "## Integers"
   ]
  },
  {
   "cell_type": "markdown",
   "id": "b24539a8",
   "metadata": {},
   "source": [
    "Integers are whole numbers, not decimals. Numbers like 0, 1, -34 are all integers. We can use python to perform operations on integers. We can add them, subtract them, multiply them, divide them, raise them to the power, etc. Ints are what are called numerical types, there are three numerical types: ints, float, complex."
   ]
  },
  {
   "cell_type": "code",
   "execution_count": 19,
   "id": "d59bb743",
   "metadata": {},
   "outputs": [
    {
     "data": {
      "text/plain": [
       "4"
      ]
     },
     "execution_count": 19,
     "metadata": {},
     "output_type": "execute_result"
    }
   ],
   "source": [
    "3+1"
   ]
  },
  {
   "cell_type": "code",
   "execution_count": 20,
   "id": "b49dfdfe",
   "metadata": {},
   "outputs": [
    {
     "data": {
      "text/plain": [
       "-3"
      ]
     },
     "execution_count": 20,
     "metadata": {},
     "output_type": "execute_result"
    }
   ],
   "source": [
    "4-7"
   ]
  },
  {
   "cell_type": "code",
   "execution_count": 21,
   "id": "13971776",
   "metadata": {},
   "outputs": [
    {
     "data": {
      "text/plain": [
       "20"
      ]
     },
     "execution_count": 21,
     "metadata": {},
     "output_type": "execute_result"
    }
   ],
   "source": [
    "4*5"
   ]
  },
  {
   "cell_type": "code",
   "execution_count": 24,
   "id": "c42cc686",
   "metadata": {},
   "outputs": [
    {
     "data": {
      "text/plain": [
       "2.3333333333333335"
      ]
     },
     "execution_count": 24,
     "metadata": {},
     "output_type": "execute_result"
    }
   ],
   "source": [
    "7/3"
   ]
  },
  {
   "cell_type": "code",
   "execution_count": 34,
   "id": "60c74117",
   "metadata": {},
   "outputs": [
    {
     "data": {
      "text/plain": [
       "8"
      ]
     },
     "execution_count": 34,
     "metadata": {},
     "output_type": "execute_result"
    }
   ],
   "source": [
    "2**3"
   ]
  },
  {
   "cell_type": "markdown",
   "id": "c4bd2d87",
   "metadata": {},
   "source": [
    "Notice here that the result of the division results in a decimal number, decimal numbers are not integers and have the type float."
   ]
  },
  {
   "cell_type": "code",
   "execution_count": 25,
   "id": "a3367895",
   "metadata": {},
   "outputs": [
    {
     "data": {
      "text/plain": [
       "float"
      ]
     },
     "execution_count": 25,
     "metadata": {},
     "output_type": "execute_result"
    }
   ],
   "source": [
    "type(7/3)"
   ]
  },
  {
   "cell_type": "markdown",
   "id": "a30c7b7d",
   "metadata": {},
   "source": [
    "We can also divide such that the result is an integer, this is call integer division. To do this the result is rounded down to the nearest integer."
   ]
  },
  {
   "cell_type": "code",
   "execution_count": 27,
   "id": "5963491b",
   "metadata": {},
   "outputs": [
    {
     "data": {
      "text/plain": [
       "2"
      ]
     },
     "execution_count": 27,
     "metadata": {},
     "output_type": "execute_result"
    }
   ],
   "source": [
    "7//3"
   ]
  },
  {
   "cell_type": "code",
   "execution_count": 28,
   "id": "7e4104c1",
   "metadata": {},
   "outputs": [
    {
     "data": {
      "text/plain": [
       "int"
      ]
     },
     "execution_count": 28,
     "metadata": {},
     "output_type": "execute_result"
    }
   ],
   "source": [
    "type(7//3)"
   ]
  },
  {
   "cell_type": "markdown",
   "id": "e24626fe",
   "metadata": {},
   "source": [
    "There is another operation we can perform on integers. That you might not be familiar with, the modulus operator. This operator returns the remainder after doing integer division."
   ]
  },
  {
   "cell_type": "code",
   "execution_count": 58,
   "id": "d8cf016f",
   "metadata": {},
   "outputs": [
    {
     "data": {
      "text/plain": [
       "2"
      ]
     },
     "execution_count": 58,
     "metadata": {},
     "output_type": "execute_result"
    }
   ],
   "source": [
    "11 % 3"
   ]
  },
  {
   "cell_type": "markdown",
   "id": "94a90d14",
   "metadata": {},
   "source": [
    "The operations can also be chained together and we can use brackets to force a certain precedence."
   ]
  },
  {
   "cell_type": "code",
   "execution_count": 31,
   "id": "156388e0",
   "metadata": {},
   "outputs": [
    {
     "data": {
      "text/plain": [
       "29.9"
      ]
     },
     "execution_count": 31,
     "metadata": {},
     "output_type": "execute_result"
    }
   ],
   "source": [
    "5 * 6 - 1 / 6 + 4"
   ]
  },
  {
   "cell_type": "code",
   "execution_count": 32,
   "id": "630c6a8e",
   "metadata": {},
   "outputs": [
    {
     "data": {
      "text/plain": [
       "2.5"
      ]
     },
     "execution_count": 32,
     "metadata": {},
     "output_type": "execute_result"
    }
   ],
   "source": [
    "5 * (6 - 1) / (6 + 4)"
   ]
  },
  {
   "cell_type": "markdown",
   "id": "2bd95040",
   "metadata": {},
   "source": [
    "## Floats"
   ]
  },
  {
   "cell_type": "markdown",
   "id": "a045cf76",
   "metadata": {},
   "source": [
    "Floats are represent decimal numbers and store decimal numbers in a floating point representation. If you want to learn more about how these floats are stored in memory, take a look [here](https://en.wikipedia.org/wiki/Floating-point_arithmetic). We can do the same operations on floats as we can on integers (except of integer division). Play around with them in the cell below."
   ]
  },
  {
   "cell_type": "code",
   "execution_count": 36,
   "id": "b6ace101",
   "metadata": {},
   "outputs": [
    {
     "data": {
      "text/plain": [
       "0.012594640391827254"
      ]
     },
     "execution_count": 36,
     "metadata": {},
     "output_type": "execute_result"
    }
   ],
   "source": [
    "5.3 * (6.1 - 1.7) / (6.3 + 4.5**5)"
   ]
  },
  {
   "cell_type": "markdown",
   "id": "6d3bde9a",
   "metadata": {},
   "source": [
    "## Strings"
   ]
  },
  {
   "cell_type": "markdown",
   "id": "1200431d",
   "metadata": {},
   "source": [
    "Strings are sequences of characters. We can also perform certain operations on strings."
   ]
  },
  {
   "cell_type": "code",
   "execution_count": 41,
   "id": "49682ff4",
   "metadata": {},
   "outputs": [
    {
     "data": {
      "text/plain": [
       "'Hello world!'"
      ]
     },
     "execution_count": 41,
     "metadata": {},
     "output_type": "execute_result"
    }
   ],
   "source": [
    "\"Hello\" + \" world!\""
   ]
  },
  {
   "cell_type": "code",
   "execution_count": 42,
   "id": "b539a17f",
   "metadata": {},
   "outputs": [
    {
     "data": {
      "text/plain": [
       "'HelloHelloHelloHelloHello'"
      ]
     },
     "execution_count": 42,
     "metadata": {},
     "output_type": "execute_result"
    }
   ],
   "source": [
    "\"Hello\" * 5"
   ]
  },
  {
   "cell_type": "code",
   "execution_count": 43,
   "id": "0902bcd3",
   "metadata": {},
   "outputs": [
    {
     "data": {
      "text/plain": [
       "'Hello world! Hello world!'"
      ]
     },
     "execution_count": 43,
     "metadata": {},
     "output_type": "execute_result"
    }
   ],
   "source": [
    "\"Hello\" + \" world!\" + \" Hello\" + \" world!\""
   ]
  },
  {
   "cell_type": "markdown",
   "id": "a14c400f",
   "metadata": {},
   "source": [
    "## Booleans"
   ]
  },
  {
   "cell_type": "markdown",
   "id": "2321ee02",
   "metadata": {},
   "source": [
    "The last basic type we will look at here is the booleans. Booleans can only have two values, True or False. We can perform logic on booleans."
   ]
  },
  {
   "cell_type": "code",
   "execution_count": 44,
   "id": "11accfd1",
   "metadata": {},
   "outputs": [
    {
     "data": {
      "text/plain": [
       "True"
      ]
     },
     "execution_count": 44,
     "metadata": {},
     "output_type": "execute_result"
    }
   ],
   "source": [
    "True"
   ]
  },
  {
   "cell_type": "code",
   "execution_count": 45,
   "id": "3437bc8c",
   "metadata": {},
   "outputs": [
    {
     "data": {
      "text/plain": [
       "False"
      ]
     },
     "execution_count": 45,
     "metadata": {},
     "output_type": "execute_result"
    }
   ],
   "source": [
    "True and False"
   ]
  },
  {
   "cell_type": "code",
   "execution_count": 46,
   "id": "d30de1b9",
   "metadata": {},
   "outputs": [
    {
     "data": {
      "text/plain": [
       "True"
      ]
     },
     "execution_count": 46,
     "metadata": {},
     "output_type": "execute_result"
    }
   ],
   "source": [
    "(True and False) or (True and True)"
   ]
  },
  {
   "cell_type": "markdown",
   "id": "9d966132",
   "metadata": {},
   "source": [
    "# Working with variables"
   ]
  },
  {
   "cell_type": "markdown",
   "id": "72cab25a",
   "metadata": {},
   "source": [
    "Why would we use variables? Lets say we want to use the value 5 in different operations."
   ]
  },
  {
   "cell_type": "code",
   "execution_count": 48,
   "id": "b95a23d8",
   "metadata": {},
   "outputs": [
    {
     "name": "stdout",
     "output_type": "stream",
     "text": [
      "5\n",
      "13\n",
      "3.3333333333333335\n"
     ]
    }
   ],
   "source": [
    "print(5)\n",
    "print(5 + 8)\n",
    "print(5 * 2 / 3)"
   ]
  },
  {
   "cell_type": "markdown",
   "id": "8184a8bb",
   "metadata": {},
   "source": [
    "If we want to update the 5 to a six we will need to make three changes in the code. Instead, we could store the value 5 in a variable and use that variable instead."
   ]
  },
  {
   "cell_type": "code",
   "execution_count": 51,
   "id": "7fa851a6",
   "metadata": {},
   "outputs": [
    {
     "name": "stdout",
     "output_type": "stream",
     "text": [
      "6\n",
      "14\n",
      "4.0\n"
     ]
    }
   ],
   "source": [
    "print(6)\n",
    "print(6 + 8)\n",
    "print(6 * 2 / 3)"
   ]
  },
  {
   "cell_type": "code",
   "execution_count": 52,
   "id": "894fa52e",
   "metadata": {},
   "outputs": [
    {
     "name": "stdout",
     "output_type": "stream",
     "text": [
      "5\n",
      "13\n",
      "3.3333333333333335\n"
     ]
    }
   ],
   "source": [
    "a = 5\n",
    "print(a)\n",
    "print(a + 8)\n",
    "print(a * 2 / 3)"
   ]
  },
  {
   "cell_type": "markdown",
   "id": "07b8b21b",
   "metadata": {},
   "source": [
    "Now to update the 5 to a six, we can simply change the value of the variable a. "
   ]
  },
  {
   "cell_type": "code",
   "execution_count": 53,
   "id": "962b5228",
   "metadata": {},
   "outputs": [
    {
     "name": "stdout",
     "output_type": "stream",
     "text": [
      "6\n",
      "14\n",
      "4.0\n"
     ]
    }
   ],
   "source": [
    "a = 6\n",
    "print(a)\n",
    "print(a + 8)\n",
    "print(a * 2 / 3)"
   ]
  },
  {
   "cell_type": "markdown",
   "id": "cbd26e1a",
   "metadata": {},
   "source": [
    "We can also define another another variables and combine the two variables we defined. Or assign their values to each other."
   ]
  },
  {
   "cell_type": "code",
   "execution_count": 54,
   "id": "0db88e43",
   "metadata": {},
   "outputs": [],
   "source": [
    "b = 52"
   ]
  },
  {
   "cell_type": "code",
   "execution_count": 56,
   "id": "447b6e51",
   "metadata": {},
   "outputs": [
    {
     "data": {
      "text/plain": [
       "214"
      ]
     },
     "execution_count": 56,
     "metadata": {},
     "output_type": "execute_result"
    }
   ],
   "source": [
    "a + b * 4"
   ]
  },
  {
   "cell_type": "code",
   "execution_count": 57,
   "id": "ae0095f6",
   "metadata": {},
   "outputs": [
    {
     "name": "stdout",
     "output_type": "stream",
     "text": [
      "6662.0\n"
     ]
    }
   ],
   "source": [
    "print(a + b * 4 ** 3.5)"
   ]
  },
  {
   "cell_type": "code",
   "execution_count": 60,
   "id": "31fce4da",
   "metadata": {},
   "outputs": [
    {
     "name": "stdout",
     "output_type": "stream",
     "text": [
      "52\n"
     ]
    }
   ],
   "source": [
    "a = b\n",
    "print(a)"
   ]
  },
  {
   "cell_type": "markdown",
   "id": "26cde0ad",
   "metadata": {},
   "source": [
    "Because assigning variables with an operation, is such a common pratice there are shorter notations for most operations. Below are a few examples. "
   ]
  },
  {
   "cell_type": "code",
   "execution_count": 74,
   "id": "17b45423",
   "metadata": {},
   "outputs": [],
   "source": [
    "c = 4"
   ]
  },
  {
   "cell_type": "code",
   "execution_count": 75,
   "id": "ea35500e",
   "metadata": {},
   "outputs": [
    {
     "name": "stdout",
     "output_type": "stream",
     "text": [
      "5\n"
     ]
    }
   ],
   "source": [
    "c += 1\n",
    "print(c)"
   ]
  },
  {
   "cell_type": "code",
   "execution_count": 76,
   "id": "cb567bcc",
   "metadata": {},
   "outputs": [
    {
     "name": "stdout",
     "output_type": "stream",
     "text": [
      "4\n"
     ]
    }
   ],
   "source": [
    "c -= 1\n",
    "print(c)"
   ]
  },
  {
   "cell_type": "code",
   "execution_count": 77,
   "id": "4e8100d0",
   "metadata": {},
   "outputs": [
    {
     "name": "stdout",
     "output_type": "stream",
     "text": [
      "1.0\n"
     ]
    }
   ],
   "source": [
    "c /= 4\n",
    "print(c)"
   ]
  },
  {
   "cell_type": "code",
   "execution_count": 78,
   "id": "5cbe3313",
   "metadata": {},
   "outputs": [
    {
     "name": "stdout",
     "output_type": "stream",
     "text": [
      "53.0\n"
     ]
    }
   ],
   "source": [
    "c += a\n",
    "print(c)"
   ]
  },
  {
   "cell_type": "markdown",
   "id": "197a93c4",
   "metadata": {},
   "source": [
    "Note that variables stay the same, so if you add one to a variable in a cell and execute previous cell again, that variable will now have the value one added to it. Try this out and you now know the basics of working with variables, so play around with this a little below and see if things work the way you expect."
   ]
  },
  {
   "cell_type": "markdown",
   "id": "55977ab5",
   "metadata": {},
   "source": [
    "# Casting"
   ]
  },
  {
   "cell_type": "markdown",
   "id": "c66f91a0",
   "metadata": {},
   "source": [
    "Sometimes we need to convert one datatype to another. This process is called casting. Below a few examples are given."
   ]
  },
  {
   "cell_type": "code",
   "execution_count": 2,
   "id": "f7f57d91",
   "metadata": {},
   "outputs": [
    {
     "name": "stdout",
     "output_type": "stream",
     "text": [
      "4\n"
     ]
    }
   ],
   "source": [
    "a = int(4.564)\n",
    "print(a)"
   ]
  },
  {
   "cell_type": "code",
   "execution_count": 3,
   "id": "85c84a09",
   "metadata": {},
   "outputs": [
    {
     "name": "stdout",
     "output_type": "stream",
     "text": [
      "97\n"
     ]
    }
   ],
   "source": [
    "b = ord(\"a\")\n",
    "print(b)"
   ]
  },
  {
   "cell_type": "code",
   "execution_count": 4,
   "id": "1ea0a95a",
   "metadata": {},
   "outputs": [
    {
     "name": "stdout",
     "output_type": "stream",
     "text": [
      "h\n"
     ]
    }
   ],
   "source": [
    "print(chr(104))"
   ]
  },
  {
   "cell_type": "code",
   "execution_count": 5,
   "id": "7441ad14",
   "metadata": {},
   "outputs": [
    {
     "data": {
      "text/plain": [
       "['a', 's', 'd', 'f', 'a', 's', 'd', 'f', 's']"
      ]
     },
     "execution_count": 5,
     "metadata": {},
     "output_type": "execute_result"
    }
   ],
   "source": [
    "list(\"asdfasdfs\")"
   ]
  }
 ],
 "metadata": {
  "kernelspec": {
   "display_name": "Python 3 (ipykernel)",
   "language": "python",
   "name": "python3"
  },
  "language_info": {
   "codemirror_mode": {
    "name": "ipython",
    "version": 3
   },
   "file_extension": ".py",
   "mimetype": "text/x-python",
   "name": "python",
   "nbconvert_exporter": "python",
   "pygments_lexer": "ipython3",
   "version": "3.9.9"
  }
 },
 "nbformat": 4,
 "nbformat_minor": 5
}
