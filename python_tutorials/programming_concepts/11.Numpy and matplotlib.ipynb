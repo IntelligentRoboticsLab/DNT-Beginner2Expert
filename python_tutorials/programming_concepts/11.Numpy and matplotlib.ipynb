{
 "cells": [
  {
   "cell_type": "markdown",
   "id": "6c431fe9",
   "metadata": {},
   "source": [
    "# Numpy"
   ]
  },
  {
   "cell_type": "markdown",
   "id": "329d1834",
   "metadata": {},
   "source": [
    "In this section we will be exploring the numpy (numerical python) library. This is probably one of the most used libraries and it provides functionality to perform all kinds of scientific computing. The reason you want to use this library when doing larger computations is because in the background it is implemented in the c programming language. This is a much lower level language with a lot less overhead which makes it many times faster than python. This library provides a vast amount of functionality, which we can hardly touch upon in a short tutorial. But we will try to show you some of its basics."
   ]
  },
  {
   "cell_type": "markdown",
   "id": "3d8030be",
   "metadata": {},
   "source": [
    "## Arrays"
   ]
  },
  {
   "cell_type": "markdown",
   "id": "2eba28ea",
   "metadata": {},
   "source": [
    "First lets import the library so we can use it. Because this library is used so often it is often imported as np, this way there is no need to completely spell out numpy every time you want to use it."
   ]
  },
  {
   "cell_type": "code",
   "execution_count": 59,
   "id": "b304af95",
   "metadata": {},
   "outputs": [],
   "source": [
    "import numpy as np"
   ]
  },
  {
   "cell_type": "markdown",
   "id": "dfefa361",
   "metadata": {},
   "source": [
    "Lets instanciate a simple numpy array."
   ]
  },
  {
   "cell_type": "code",
   "execution_count": 60,
   "id": "9660a90a",
   "metadata": {},
   "outputs": [
    {
     "name": "stdout",
     "output_type": "stream",
     "text": [
      "[  3  65   2  43 734 562   1 342]\n"
     ]
    }
   ],
   "source": [
    "arr = np.array([3, 65, 2, 43, 734, 562, 1, 342])\n",
    "print(arr)"
   ]
  },
  {
   "cell_type": "markdown",
   "id": "e05efdf0",
   "metadata": {},
   "source": [
    "In numpy we can also easily create 2D or 3D arrays. "
   ]
  },
  {
   "cell_type": "code",
   "execution_count": 61,
   "id": "c33acc69",
   "metadata": {},
   "outputs": [
    {
     "name": "stdout",
     "output_type": "stream",
     "text": [
      "[[1 2 3 4]\n",
      " [5 6 7 8]]\n"
     ]
    }
   ],
   "source": [
    "arr = np.array([[1, 2, 3, 4], [5, 6, 7, 8]])\n",
    "print(arr)"
   ]
  },
  {
   "cell_type": "code",
   "execution_count": 62,
   "id": "881768a6",
   "metadata": {},
   "outputs": [
    {
     "name": "stdout",
     "output_type": "stream",
     "text": [
      "[[[ 1  2  3]\n",
      "  [ 4  5  6]]\n",
      "\n",
      " [[ 7  8  9]\n",
      "  [10 11 12]]]\n"
     ]
    }
   ],
   "source": [
    "arr = np.array([[[1, 2, 3], [4, 5, 6]], [[7, 8, 9], [10, 11, 12]]])\n",
    "print(arr)"
   ]
  },
  {
   "cell_type": "markdown",
   "id": "10278270",
   "metadata": {},
   "source": [
    "We can easily retrieve the number of dimensions and the size of each dimension."
   ]
  },
  {
   "cell_type": "code",
   "execution_count": 63,
   "id": "397074d4",
   "metadata": {},
   "outputs": [
    {
     "name": "stdout",
     "output_type": "stream",
     "text": [
      "3\n",
      "(2, 2, 3)\n"
     ]
    }
   ],
   "source": [
    "print(arr.ndim)\n",
    "print(arr.shape)"
   ]
  },
  {
   "cell_type": "markdown",
   "id": "bf32e75b",
   "metadata": {},
   "source": [
    "### Indexing"
   ]
  },
  {
   "cell_type": "markdown",
   "id": "5a265682",
   "metadata": {},
   "source": [
    "Numpy arrays support slicing and indexing just like normal lists."
   ]
  },
  {
   "cell_type": "code",
   "execution_count": 64,
   "id": "4e46d730",
   "metadata": {},
   "outputs": [
    {
     "name": "stdout",
     "output_type": "stream",
     "text": [
      "3\n",
      "[ 3 65  2]\n",
      "[  3   2 734]\n",
      "342\n"
     ]
    }
   ],
   "source": [
    "arr = np.array([3, 65, 2, 43, 734, 562, 1, 342])\n",
    "print(arr[0])\n",
    "print(arr[0:3])\n",
    "print(arr[0:6:2])\n",
    "print(arr[-1])"
   ]
  },
  {
   "cell_type": "markdown",
   "id": "5469b0bb",
   "metadata": {},
   "source": [
    "However, the syntax is a little different when we try to acces multidimensional arrays."
   ]
  },
  {
   "cell_type": "markdown",
   "id": "85100bc3",
   "metadata": {},
   "source": [
    "For the built-in list datatype, if we want to acces an element we would do that as follows."
   ]
  },
  {
   "cell_type": "code",
   "execution_count": 65,
   "id": "4a5e12f3",
   "metadata": {},
   "outputs": [
    {
     "name": "stdout",
     "output_type": "stream",
     "text": [
      "7\n"
     ]
    }
   ],
   "source": [
    "l = [[1, 2, 3, 4], [5, 6, 7, 8]]\n",
    "print(l[1][2])"
   ]
  },
  {
   "cell_type": "markdown",
   "id": "082eaf44",
   "metadata": {},
   "source": [
    "For numpy arrays, we use a slightly different syntax."
   ]
  },
  {
   "cell_type": "code",
   "execution_count": 66,
   "id": "90b95a47",
   "metadata": {},
   "outputs": [
    {
     "name": "stdout",
     "output_type": "stream",
     "text": [
      "7\n"
     ]
    }
   ],
   "source": [
    "arr = np.array(l)\n",
    "print(arr[1,2])"
   ]
  },
  {
   "cell_type": "markdown",
   "id": "23b0650a",
   "metadata": {},
   "source": [
    "When indexing higher dimensional arrays, the first index indicates what part of the first dimension of the array you want to retrieve. Each subsequent index indicates the same for higher level dimensions in the numpy array. The different demensions are often referred to as an axis, starting with axis=0 representing the first dimensions. You can still use slices over the different dimensions."
   ]
  },
  {
   "cell_type": "code",
   "execution_count": 67,
   "id": "4c182435",
   "metadata": {},
   "outputs": [
    {
     "name": "stdout",
     "output_type": "stream",
     "text": [
      "[[3 4]\n",
      " [7 8]]\n"
     ]
    }
   ],
   "source": [
    "print(arr[:2,2:])"
   ]
  },
  {
   "cell_type": "markdown",
   "id": "483377c2",
   "metadata": {},
   "source": [
    "You can also select specific columns or rows."
   ]
  },
  {
   "cell_type": "code",
   "execution_count": 98,
   "id": "3c014f56",
   "metadata": {},
   "outputs": [
    {
     "name": "stdout",
     "output_type": "stream",
     "text": [
      "[3 8]\n"
     ]
    }
   ],
   "source": [
    "print(arr[[0,1], [2, 3]])"
   ]
  },
  {
   "cell_type": "markdown",
   "id": "14f2d9c5",
   "metadata": {},
   "source": [
    "We can also retrieve values based on an array of similar dimensions filled with booleans. The values at the locations that are true, are returned. This is referred to as a boolean mask."
   ]
  },
  {
   "cell_type": "code",
   "execution_count": 69,
   "id": "34aa4f23",
   "metadata": {},
   "outputs": [
    {
     "name": "stdout",
     "output_type": "stream",
     "text": [
      "[3 5 8]\n"
     ]
    }
   ],
   "source": [
    "l = [[False, False, True, False], [True, False, False, True]]\n",
    "b = np.array(l)\n",
    "print(arr[b])"
   ]
  },
  {
   "cell_type": "markdown",
   "id": "9c143f6b",
   "metadata": {},
   "source": [
    "This can be very useful if you want to retrieve values based on a certain condition."
   ]
  },
  {
   "cell_type": "code",
   "execution_count": 71,
   "id": "df5971e4",
   "metadata": {},
   "outputs": [
    {
     "name": "stdout",
     "output_type": "stream",
     "text": [
      "[[False False False  True]\n",
      " [ True  True  True  True]]\n",
      "[4 5 6 7 8]\n"
     ]
    }
   ],
   "source": [
    "print(arr > 3)\n",
    "print(arr[arr > 3])"
   ]
  },
  {
   "cell_type": "markdown",
   "id": "1055ce05",
   "metadata": {},
   "source": [
    "## Datatypes"
   ]
  },
  {
   "cell_type": "markdown",
   "id": "5b3a8091",
   "metadata": {},
   "source": [
    "Numpy has a lot more datatypes than the datatypes we have seen up to now. We will not go into detail into all the different datatypes, but if you want to see what is available, take a look [here](https://numpy.org/doc/stable/reference/arrays.dtypes.html). Unalike the built-in list, numpy arrays cannot contain data of different types. You can retrieve the data type of a numpy array using the ```dtype``` attribute."
   ]
  },
  {
   "cell_type": "code",
   "execution_count": 53,
   "id": "870783d5",
   "metadata": {},
   "outputs": [
    {
     "name": "stdout",
     "output_type": "stream",
     "text": [
      "int64\n"
     ]
    }
   ],
   "source": [
    "print(arr.dtype)"
   ]
  },
  {
   "cell_type": "markdown",
   "id": "ddd6715e",
   "metadata": {},
   "source": [
    "## Reshaping"
   ]
  },
  {
   "cell_type": "markdown",
   "id": "b00bfa2c",
   "metadata": {},
   "source": [
    "Sometimes, data is not in the shape you would like to have it. For this, there is a usefull function that reshapes your array to the desired shape. You pass the shape you would like as a tuple, containing the desired size of each dimension. One dimensions may be unknown, and numpy will derive its size for you. This can be indicated with -1."
   ]
  },
  {
   "cell_type": "code",
   "execution_count": 54,
   "id": "1bee13f2",
   "metadata": {},
   "outputs": [
    {
     "name": "stdout",
     "output_type": "stream",
     "text": [
      "[[1 2 3 4]\n",
      " [5 6 7 8]]\n",
      "[1 2 3 4 5 6 7 8]\n",
      "[[1 2]\n",
      " [3 4]\n",
      " [5 6]\n",
      " [7 8]]\n"
     ]
    }
   ],
   "source": [
    "print(arr)\n",
    "arr = arr.reshape(-1)\n",
    "print(arr)\n",
    "arr = arr.reshape(4, -1)\n",
    "print(arr)"
   ]
  },
  {
   "cell_type": "markdown",
   "id": "373d3d9d",
   "metadata": {},
   "source": [
    "## Operations on arrays"
   ]
  },
  {
   "cell_type": "markdown",
   "id": "3f02c52f",
   "metadata": {},
   "source": [
    "You do not want to iterate over numpy arrays. There is usually a faster method that does not require iteration (iterating over a arrays is quite slow). Lets say we want to square every elemenet in an array. To do this you can simply apply the numpy square function on the array. The function will then be applied to every individual element. This also works for other functions and operations like addition or subtraction, etc."
   ]
  },
  {
   "cell_type": "code",
   "execution_count": 81,
   "id": "4bc9cd8f",
   "metadata": {},
   "outputs": [
    {
     "name": "stdout",
     "output_type": "stream",
     "text": [
      "[0 1 2 3 4 5 6 7 8 9]\n",
      "[ 0  1  4  9 16 25 36 49 64 81]\n"
     ]
    }
   ],
   "source": [
    "l = np.arange(10)\n",
    "print(l)\n",
    "print(np.square(l))"
   ]
  },
  {
   "cell_type": "code",
   "execution_count": 86,
   "id": "a00a4600",
   "metadata": {},
   "outputs": [
    {
     "name": "stdout",
     "output_type": "stream",
     "text": [
      "[ 1  2  3  4  5  6  7  8  9 10]\n",
      "[-4 -3 -2 -1  0  1  2  3  4  5]\n",
      "[0 0 0 1 1 1 2 2 2 3]\n",
      "[  0   1   8  27  64 125 216 343 512 729]\n"
     ]
    }
   ],
   "source": [
    "print(l + 1)\n",
    "print(l - 4)\n",
    "print(l // 3)\n",
    "print(l ** 3)"
   ]
  },
  {
   "cell_type": "markdown",
   "id": "7af442a1",
   "metadata": {},
   "source": [
    "We can also do operations over certains axis. For example to get the sum of all values in each column or the sum of al values in each row or the mean."
   ]
  },
  {
   "cell_type": "code",
   "execution_count": 89,
   "id": "a8e028f4",
   "metadata": {},
   "outputs": [
    {
     "name": "stdout",
     "output_type": "stream",
     "text": [
      "[[ 0  1  2  3  4  5]\n",
      " [ 6  7  8  9 10 11]\n",
      " [12 13 14 15 16 17]\n",
      " [18 19 20 21 22 23]]\n",
      "[36 40 44 48 52 56]\n",
      "[ 15  51  87 123]\n",
      "[ 9. 10. 11. 12. 13. 14.]\n",
      "[ 2.5  8.5 14.5 20.5]\n"
     ]
    }
   ],
   "source": [
    "l = np.reshape(np.arange(24), (4, 6))\n",
    "print(l)\n",
    "\n",
    "print(np.sum(l, axis=0))\n",
    "print(np.sum(l, axis=1))\n",
    "\n",
    "print(np.mean(l, axis=0))\n",
    "print(np.mean(l, axis=1))"
   ]
  },
  {
   "cell_type": "markdown",
   "id": "6f599022",
   "metadata": {},
   "source": [
    "Lets say we do not want to add only one value to a numpy array, but a certain value to every column in an array. To do this, we can make use of broadcasting. When using broadcasting, an array which is used to perform an operation is extended to have the same shape as the array on which the operations is being performed. In the following example it is along the axis 0."
   ]
  },
  {
   "cell_type": "code",
   "execution_count": 90,
   "id": "396ee479",
   "metadata": {},
   "outputs": [
    {
     "name": "stdout",
     "output_type": "stream",
     "text": [
      "[[ 0  1  2  3  4  5]\n",
      " [ 6  7  8  9 10 11]\n",
      " [12 13 14 15 16 17]\n",
      " [18 19 20 21 22 23]]\n"
     ]
    }
   ],
   "source": [
    "print(l)"
   ]
  },
  {
   "cell_type": "code",
   "execution_count": 93,
   "id": "6de69d91",
   "metadata": {},
   "outputs": [
    {
     "name": "stdout",
     "output_type": "stream",
     "text": [
      "[[ 1  3  5  7  9 11]\n",
      " [ 7  9 11 13 15 17]\n",
      " [13 15 17 19 21 23]\n",
      " [19 21 23 25 27 29]]\n"
     ]
    }
   ],
   "source": [
    "print(l + np.array([1, 2, 3, 4, 5, 6]))"
   ]
  },
  {
   "cell_type": "markdown",
   "id": "e7e21178",
   "metadata": {},
   "source": [
    "This can also be done over axis 1, to add a specific value to each row."
   ]
  },
  {
   "cell_type": "code",
   "execution_count": 100,
   "id": "6e6e5af5",
   "metadata": {},
   "outputs": [
    {
     "name": "stdout",
     "output_type": "stream",
     "text": [
      "[[ 1  2  3  4  5  6]\n",
      " [ 8  9 10 11 12 13]\n",
      " [15 16 17 18 19 20]\n",
      " [22 23 24 25 26 27]]\n"
     ]
    }
   ],
   "source": [
    "print(l + np.array([[1],[2],[3],[4]]))"
   ]
  },
  {
   "cell_type": "code",
   "execution_count": 101,
   "id": "650fe7cc",
   "metadata": {},
   "outputs": [
    {
     "name": "stdout",
     "output_type": "stream",
     "text": [
      "[[2 2 2 2 2]\n",
      " [3 3 3 3 3]\n",
      " [4 4 4 4 4]\n",
      " [5 5 5 5 5]]\n"
     ]
    }
   ],
   "source": [
    "print(np.array([[1],[2],[3],[4]]) + np.array([1, 1, 1, 1, 1]))"
   ]
  },
  {
   "cell_type": "markdown",
   "id": "c51326d1",
   "metadata": {},
   "source": [
    "## Randomness"
   ]
  },
  {
   "cell_type": "markdown",
   "id": "4afd3398",
   "metadata": {},
   "source": [
    "Numpy also support sampeling all kinds of probability distributions. Lets generate an array of random floats sampled on a uniform distribution (that is each element has an equaly likely chance of being selected)."
   ]
  },
  {
   "cell_type": "code",
   "execution_count": 106,
   "id": "bf2cbcd4",
   "metadata": {},
   "outputs": [
    {
     "name": "stdout",
     "output_type": "stream",
     "text": [
      "[0.81860043 0.5882761  0.7351591  0.76617119 0.67111689 0.71176375\n",
      " 0.04426709 0.9940592  0.76788662 0.76236618]\n",
      "[[0.50480687 0.00435814 0.24683352]\n",
      " [0.78136551 0.18368062 0.37771293]]\n"
     ]
    }
   ],
   "source": [
    "from numpy import random\n",
    "print(random.uniform(low=0.0, high=1.0, size=(10)))\n",
    "print(random.uniform(low=0.0, high=1.0, size=(2,3)))"
   ]
  },
  {
   "cell_type": "markdown",
   "id": "634c5dc6",
   "metadata": {},
   "source": [
    "# Matplotlib"
   ]
  },
  {
   "cell_type": "markdown",
   "id": "904b8575",
   "metadata": {},
   "source": [
    "It might be intersting to visualize some of the data we are working with. To do that, we can use an additional library, matplotlib. First lets import the things we need.\n",
    "\n",
    "Note: You might first need to install matplotlib using pip3."
   ]
  },
  {
   "cell_type": "code",
   "execution_count": 109,
   "id": "3b19f6b8",
   "metadata": {},
   "outputs": [],
   "source": [
    "import matplotlib.pyplot as plt"
   ]
  },
  {
   "cell_type": "markdown",
   "id": "583f23f4",
   "metadata": {},
   "source": [
    "Lets first visualize a simple formula.\n",
    "\n",
    "$y = 3x + 2$"
   ]
  },
  {
   "cell_type": "markdown",
   "id": "41395307",
   "metadata": {},
   "source": [
    "First we need an array of datapoints $x$ for which we want to calculate $y$. To make these datapoints, ```np.linspace()``` is a very usefull function. It generates a number of evenly spaced datapoints over a certain interval."
   ]
  },
  {
   "cell_type": "code",
   "execution_count": 112,
   "id": "3e830413",
   "metadata": {},
   "outputs": [
    {
     "name": "stdout",
     "output_type": "stream",
     "text": [
      "[ 0.          0.1010101   0.2020202   0.3030303   0.4040404   0.50505051\n",
      "  0.60606061  0.70707071  0.80808081  0.90909091  1.01010101  1.11111111\n",
      "  1.21212121  1.31313131  1.41414141  1.51515152  1.61616162  1.71717172\n",
      "  1.81818182  1.91919192  2.02020202  2.12121212  2.22222222  2.32323232\n",
      "  2.42424242  2.52525253  2.62626263  2.72727273  2.82828283  2.92929293\n",
      "  3.03030303  3.13131313  3.23232323  3.33333333  3.43434343  3.53535354\n",
      "  3.63636364  3.73737374  3.83838384  3.93939394  4.04040404  4.14141414\n",
      "  4.24242424  4.34343434  4.44444444  4.54545455  4.64646465  4.74747475\n",
      "  4.84848485  4.94949495  5.05050505  5.15151515  5.25252525  5.35353535\n",
      "  5.45454545  5.55555556  5.65656566  5.75757576  5.85858586  5.95959596\n",
      "  6.06060606  6.16161616  6.26262626  6.36363636  6.46464646  6.56565657\n",
      "  6.66666667  6.76767677  6.86868687  6.96969697  7.07070707  7.17171717\n",
      "  7.27272727  7.37373737  7.47474747  7.57575758  7.67676768  7.77777778\n",
      "  7.87878788  7.97979798  8.08080808  8.18181818  8.28282828  8.38383838\n",
      "  8.48484848  8.58585859  8.68686869  8.78787879  8.88888889  8.98989899\n",
      "  9.09090909  9.19191919  9.29292929  9.39393939  9.49494949  9.5959596\n",
      "  9.6969697   9.7979798   9.8989899  10.        ]\n"
     ]
    }
   ],
   "source": [
    "xs = np.linspace(0, 10, 100)\n",
    "print(xs)"
   ]
  },
  {
   "cell_type": "markdown",
   "id": "8d4da746",
   "metadata": {},
   "source": [
    "Now lets apply our function to these xs."
   ]
  },
  {
   "cell_type": "code",
   "execution_count": 114,
   "id": "fbe3337e",
   "metadata": {},
   "outputs": [
    {
     "name": "stdout",
     "output_type": "stream",
     "text": [
      "[ 2.          2.3030303   2.60606061  2.90909091  3.21212121  3.51515152\n",
      "  3.81818182  4.12121212  4.42424242  4.72727273  5.03030303  5.33333333\n",
      "  5.63636364  5.93939394  6.24242424  6.54545455  6.84848485  7.15151515\n",
      "  7.45454545  7.75757576  8.06060606  8.36363636  8.66666667  8.96969697\n",
      "  9.27272727  9.57575758  9.87878788 10.18181818 10.48484848 10.78787879\n",
      " 11.09090909 11.39393939 11.6969697  12.         12.3030303  12.60606061\n",
      " 12.90909091 13.21212121 13.51515152 13.81818182 14.12121212 14.42424242\n",
      " 14.72727273 15.03030303 15.33333333 15.63636364 15.93939394 16.24242424\n",
      " 16.54545455 16.84848485 17.15151515 17.45454545 17.75757576 18.06060606\n",
      " 18.36363636 18.66666667 18.96969697 19.27272727 19.57575758 19.87878788\n",
      " 20.18181818 20.48484848 20.78787879 21.09090909 21.39393939 21.6969697\n",
      " 22.         22.3030303  22.60606061 22.90909091 23.21212121 23.51515152\n",
      " 23.81818182 24.12121212 24.42424242 24.72727273 25.03030303 25.33333333\n",
      " 25.63636364 25.93939394 26.24242424 26.54545455 26.84848485 27.15151515\n",
      " 27.45454545 27.75757576 28.06060606 28.36363636 28.66666667 28.96969697\n",
      " 29.27272727 29.57575758 29.87878788 30.18181818 30.48484848 30.78787879\n",
      " 31.09090909 31.39393939 31.6969697  32.        ]\n"
     ]
    }
   ],
   "source": [
    "ys = 3 * xs + 2\n",
    "print(ys)"
   ]
  },
  {
   "cell_type": "markdown",
   "id": "a388206e",
   "metadata": {},
   "source": [
    "So how do we now visualize this function? To do this, we can pass the arrays of xs and corresponding ys to matplotlib ```plot()``` function."
   ]
  },
  {
   "cell_type": "code",
   "execution_count": 140,
   "id": "1f71db73",
   "metadata": {},
   "outputs": [
    {
     "data": {
      "image/png": "[encoded data removed]",
      "text/plain": [
       "<Figure size 640x480 with 1 Axes>"
      ]
     },
     "metadata": {},
     "output_type": "display_data"
    }
   ],
   "source": [
    "plt.plot(xs, ys)\n",
    "plt.xlabel(\"xs\")\n",
    "plt.ylabel(\"ys\")\n",
    "plt.title(\"Simple function\")\n",
    "plt.show()"
   ]
  },
  {
   "cell_type": "markdown",
   "id": "cf3fb739",
   "metadata": {},
   "source": [
    "Lets add some noise to this data. We can use some parameters to represent datapoints in a clear way."
   ]
  },
  {
   "cell_type": "code",
   "execution_count": 148,
   "id": "08b05700",
   "metadata": {},
   "outputs": [
    {
     "data": {
      "image/png": "[encoded data removed]",
      "text/plain": [
       "<Figure size 640x480 with 1 Axes>"
      ]
     },
     "metadata": {},
     "output_type": "display_data"
    }
   ],
   "source": [
    "noisy_ys = ys + random.uniform(0.0, 4.0, ys.shape) - 2\n",
    "plt.plot(xs, noisy_ys, color='C1', marker=\"o\", linestyle=\"\")\n",
    "plt.xlabel(\"xs\")\n",
    "plt.ylabel(\"ys\")\n",
    "plt.title(\"Noisy data\")\n",
    "plt.show()"
   ]
  },
  {
   "cell_type": "markdown",
   "id": "f4c217e6",
   "metadata": {},
   "source": [
    "Lets say that all we have is the noisy data, maybe it is data that we measured somewhere and we want to discover the relation the ys have to the xs."
   ]
  },
  {
   "cell_type": "markdown",
   "id": "3a90bc5f",
   "metadata": {},
   "source": [
    "We could assume there might be some linear relationship between these measurements. We could test if we can fit a linear function onto these datapoints. One method of doing this, is the least squares method. If you want to learn more about least squares, take a look [here](https://en.wikipedia.org/wiki/Least_squares) (you will need some understanding of linear algebra)."
   ]
  },
  {
   "cell_type": "code",
   "execution_count": 149,
   "id": "77ce1c27",
   "metadata": {},
   "outputs": [],
   "source": [
    "from numpy import linalg"
   ]
  },
  {
   "cell_type": "code",
   "execution_count": 161,
   "id": "70ba70b2",
   "metadata": {},
   "outputs": [
    {
     "name": "stdout",
     "output_type": "stream",
     "text": [
      "3.0 2.0000000000000013\n"
     ]
    }
   ],
   "source": [
    "A = np.vstack([xs, np.ones(len(xs))]).T\n",
    "(a, b) = linalg.lstsq(A, ys, rcond=None)[0]\n",
    "print(a, b)"
   ]
  },
  {
   "cell_type": "markdown",
   "id": "94b880fc",
   "metadata": {},
   "source": [
    "We can see that the original parameters of the polynomials formed the best fit. Lets use these parameters to plot the fitted curve."
   ]
  },
  {
   "cell_type": "code",
   "execution_count": 163,
   "id": "9380544f",
   "metadata": {},
   "outputs": [
    {
     "data": {
      "image/png": "[encoded data removed]",
      "text/plain": [
       "<Figure size 640x480 with 1 Axes>"
      ]
     },
     "metadata": {},
     "output_type": "display_data"
    }
   ],
   "source": [
    "plt.plot(xs, noisy_ys, color='C1', marker=\"o\", linestyle=\"\")\n",
    "plt.plot(xs, a*xs +b, color='C0')\n",
    "plt.xlabel(\"xs\")\n",
    "plt.ylabel(\"ys\")\n",
    "plt.title(\"Fitted curve\")\n",
    "plt.show()"
   ]
  },
  {
   "cell_type": "markdown",
   "id": "ba4cf538",
   "metadata": {},
   "source": [
    "It is clear we have made a good approximation of the original function."
   ]
  },
  {
   "cell_type": "markdown",
   "id": "9205afa3",
   "metadata": {},
   "source": [
    "## CSV"
   ]
  },
  {
   "cell_type": "markdown",
   "id": "198d0953",
   "metadata": {},
   "source": [
    "The last thing we will take a short look at are CSV files, short for comma seperated values. It is a format that is often used to store data."
   ]
  },
  {
   "cell_type": "markdown",
   "id": "7b84811c",
   "metadata": {},
   "source": [
    "For this example lets take a look at the growth of the dutch population. You can find where the data is retrieved [here](https://www.cbs.nl/nl-nl/visualisaties/dashboard-bevolking/bevolkingsgroei/groei) on CBS.\n",
    "\n",
    "In the cell below there is a bit of code that automatically downloads the data for you.\n",
    "You will need to install the cbsodata and pandas packages if you do not already have those."
   ]
  },
  {
   "cell_type": "code",
   "execution_count": 184,
   "id": "ec369e67",
   "metadata": {},
   "outputs": [],
   "source": [
    "import cbsodata\n",
    "import pandas as pd"
   ]
  },
  {
   "cell_type": "markdown",
   "id": "91292631",
   "metadata": {},
   "source": [
    "First we will download the data. We will use pandas to retrieve the data from the downloaded table. Pandas provides some extra functionality on top of numpy. Don't worry if you cannot completely understand what happens here."
   ]
  },
  {
   "cell_type": "code",
   "execution_count": 185,
   "id": "4ed2d0b4",
   "metadata": {},
   "outputs": [],
   "source": [
    "data = pd.DataFrame(cbsodata.get_data(\"37296ned\"))"
   ]
  },
  {
   "cell_type": "code",
   "execution_count": 186,
   "id": "c3abe1cc",
   "metadata": {},
   "outputs": [
    {
     "name": "stdout",
     "output_type": "stream",
     "text": [
      "    ID Perioden  TotaleBevolking_1  Mannen_2  Vrouwen_3  TotaleBevolking_4  \\\n",
      "0    0     1950           10026773   4998251    5028522           10026773   \n",
      "1    1     1951           10200280   5083759    5116521           10200280   \n",
      "2    2     1952           10328343   5145772    5182571           10328343   \n",
      "3    3     1953           10435631   5198033    5237598           10435631   \n",
      "4    4     1954           10550737   5256108    5294629           10550737   \n",
      "..  ..      ...                ...       ...        ...                ...   \n",
      "68  68     2018           17181084   8527041    8654043           17181084   \n",
      "69  69     2019           17282163   8581086    8701077           17282163   \n",
      "70  70     2020           17407585   8648031    8759554           17407585   \n",
      "71  71     2021           17475415   8686536    8788879           17475415   \n",
      "72  72     2022           17590672   8745468    8845204           17590672   \n",
      "\n",
      "    Ongehuwd_5  Gehuwd_6  Verweduwd_7  Gescheiden_8  ...  \\\n",
      "0      5284496   4232241       435532         74504  ...   \n",
      "1      5354293   4329761       439933         76293  ...   \n",
      "2      5384853   4421572       444343         77575  ...   \n",
      "3      5409984   4497526       449090         79031  ...   \n",
      "4      5443474   4572974       454436         79853  ...   \n",
      "..         ...       ...          ...           ...  ...   \n",
      "68     8287607   6710175       858676       1324626  ...   \n",
      "69     8374133   6706554       858443       1343033  ...   \n",
      "70     8474556   6713002       859020       1361007  ...   \n",
      "71     8558739   6678969       859784       1377923  ...   \n",
      "72     8674526   6667185       862818       1386143  ...   \n",
      "\n",
      "    LevendGeborenKind_69  Overledenen_70  Geboorteoverschot_71  \\\n",
      "0               229718.0         75929.0              153789.0   \n",
      "1               228407.0         77560.0              150847.0   \n",
      "2               231888.0         76346.0              155542.0   \n",
      "3               227964.0         80901.0              147063.0   \n",
      "4               228173.0         79623.0              148550.0   \n",
      "..                   ...             ...                   ...   \n",
      "68              168525.0        153363.0               15162.0   \n",
      "69              169680.0        151885.0               17795.0   \n",
      "70              168681.0        168678.0                   3.0   \n",
      "71              179441.0        170972.0                8469.0   \n",
      "72                   NaN             NaN                   NaN   \n",
      "\n",
      "    GeboorteoverschotRelatief_72  Immigratie_73  \\\n",
      "0                           15.2        70602.0   \n",
      "1                           14.7        45016.0   \n",
      "2                           15.0        33666.0   \n",
      "3                           14.0        35449.0   \n",
      "4                           14.0        42418.0   \n",
      "..                           ...            ...   \n",
      "68                           0.9       243737.0   \n",
      "69                           1.0       269064.0   \n",
      "70                           0.0       220853.0   \n",
      "71                           0.5       252528.0   \n",
      "72                           NaN            NaN   \n",
      "\n",
      "    EmigratieInclusiefAdministratieveC_74  \\\n",
      "0                                 50697.0   \n",
      "1                                 67449.0   \n",
      "2                                 81347.0   \n",
      "3                                 67080.0   \n",
      "4                                 61368.0   \n",
      "..                                    ...   \n",
      "68                               157366.0   \n",
      "69                               161029.0   \n",
      "70                               152494.0   \n",
      "71                               145330.0   \n",
      "72                                    NaN   \n",
      "\n",
      "    MigratiesaldoInclusiefAdministratie_75  \\\n",
      "0                                  19905.0   \n",
      "1                                 -22433.0   \n",
      "2                                 -47681.0   \n",
      "3                                 -31631.0   \n",
      "4                                 -18950.0   \n",
      "..                                     ...   \n",
      "68                                 86371.0   \n",
      "69                                108035.0   \n",
      "70                                 68359.0   \n",
      "71                                107198.0   \n",
      "72                                     NaN   \n",
      "\n",
      "    MigratiesaldoInclusiefCoRelatief_76  OverigeCorrecties_77  \\\n",
      "0                                   2.0                -187.0   \n",
      "1                                  -2.2                -351.0   \n",
      "2                                  -4.6                -573.0   \n",
      "3                                  -3.0                -326.0   \n",
      "4                                  -1.8                -314.0   \n",
      "..                                  ...                   ...   \n",
      "68                                  5.0                -454.0   \n",
      "69                                  6.3                -408.0   \n",
      "70                                  3.9                -532.0   \n",
      "71                                  6.1                -410.0   \n",
      "72                                  NaN                   NaN   \n",
      "\n",
      "    Bevolkingsdichtheid_78  \n",
      "0                      309  \n",
      "1                      315  \n",
      "2                      319  \n",
      "3                      322  \n",
      "4                      325  \n",
      "..                     ...  \n",
      "68                     510  \n",
      "69                     513  \n",
      "70                     517  \n",
      "71                     519  \n",
      "72                     522  \n",
      "\n",
      "[73 rows x 80 columns]\n"
     ]
    }
   ],
   "source": [
    "print(data)"
   ]
  },
  {
   "cell_type": "code",
   "execution_count": 198,
   "id": "a474f0d4",
   "metadata": {},
   "outputs": [
    {
     "name": "stdout",
     "output_type": "stream",
     "text": [
      "   Perioden  TotaleBevolking_1\n",
      "0      1950           10026773\n",
      "1      1951           10200280\n",
      "2      1952           10328343\n",
      "3      1953           10435631\n",
      "4      1954           10550737\n",
      "..      ...                ...\n",
      "68     2018           17181084\n",
      "69     2019           17282163\n",
      "70     2020           17407585\n",
      "71     2021           17475415\n",
      "72     2022           17590672\n",
      "\n",
      "[73 rows x 2 columns]\n"
     ]
    }
   ],
   "source": [
    "data = data.loc[:, [\"Perioden\", \"TotaleBevolking_1\"]]\n",
    "data.to_csv(\"population_size.csv\")\n",
    "print(data)"
   ]
  },
  {
   "cell_type": "code",
   "execution_count": 196,
   "id": "aeb798b6",
   "metadata": {},
   "outputs": [
    {
     "name": "stdout",
     "output_type": "stream",
     "text": [
      "[[    1950 10026773]\n",
      " [    1951 10200280]\n",
      " [    1952 10328343]\n",
      " [    1953 10435631]\n",
      " [    1954 10550737]\n",
      " [    1955 10680023]\n",
      " [    1956 10821661]\n",
      " [    1957 10957040]\n",
      " [    1958 11095726]\n",
      " [    1959 11278024]]\n",
      "int64\n",
      "(73, 2)\n"
     ]
    }
   ],
   "source": [
    "data_np = data.to_numpy()\n",
    "population_size = data_np.astype(np.int64)\n",
    "print(population_size[:10])\n",
    "print(population_size.dtype)\n",
    "print(population_size.shape)"
   ]
  },
  {
   "cell_type": "markdown",
   "id": "8ab7f44d",
   "metadata": {},
   "source": [
    "Now the data has been converted to a numpy array. We can see that the dataset contains 73 rows. One for each year since 1950. The first column contains the year, the second the size of the population in that year. We have also stored the data as a csv file, so you can take a look at the format in which it is stored if you go to the overview of all the notebooks (population_size.csv). Numpy provides all kinds of methods to retrieve data from csv files."
   ]
  },
  {
   "cell_type": "markdown",
   "id": "d388e4d1",
   "metadata": {},
   "source": [
    "Lets see what the data looks like."
   ]
  },
  {
   "cell_type": "code",
   "execution_count": 203,
   "id": "ab424517",
   "metadata": {},
   "outputs": [
    {
     "data": {
      "image/png": "[encoded data removed]",
      "text/plain": [
       "<Figure size 640x480 with 1 Axes>"
      ]
     },
     "metadata": {},
     "output_type": "display_data"
    }
   ],
   "source": [
    "plt.plot(population_size[:, 0], population_size[:, 1])\n",
    "plt.xlabel(\"year\")\n",
    "plt.ylabel(\"population\")\n",
    "plt.title(\"Population size\")\n",
    "plt.show()"
   ]
  },
  {
   "cell_type": "markdown",
   "id": "a21e4af3",
   "metadata": {},
   "source": [
    "See if you can figure out how to tackle to following problems in the cells below.\n",
    "- How much did the population grow on average?\n",
    "- How much did the population grow on average between 1954 and 1971?\n",
    "- Visualize the population growth (the difference between each subsequent datapoint)\n",
    "- Find the years with the highest and lowest growth"
   ]
  },
  {
   "cell_type": "code",
   "execution_count": null,
   "id": "69e094a6",
   "metadata": {},
   "outputs": [],
   "source": []
  }
 ],
 "metadata": {
  "kernelspec": {
   "display_name": "Python 3 (ipykernel)",
   "language": "python",
   "name": "python3"
  },
  "language_info": {
   "codemirror_mode": {
    "name": "ipython",
    "version": 3
   },
   "file_extension": ".py",
   "mimetype": "text/x-python",
   "name": "python",
   "nbconvert_exporter": "python",
   "pygments_lexer": "ipython3",
   "version": "3.9.9"
  }
 },
 "nbformat": 4,
 "nbformat_minor": 5
}
