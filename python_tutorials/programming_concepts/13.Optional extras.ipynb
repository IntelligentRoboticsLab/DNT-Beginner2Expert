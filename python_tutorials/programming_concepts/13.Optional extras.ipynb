{
 "cells": [
  {
   "cell_type": "markdown",
   "id": "08f3c58c",
   "metadata": {},
   "source": [
    "In this section a few more in depth topics are touched upon. These are not necessarily core concepts and often relate to python specifically."
   ]
  },
  {
   "cell_type": "markdown",
   "id": "a5777397",
   "metadata": {},
   "source": [
    "# Bytecode"
   ]
  },
  {
   "cell_type": "markdown",
   "id": "94143918",
   "metadata": {},
   "source": [
    "We have already learned that python is an intepreted language. How does this work in pratice? The interpreteritself is, just like the code you write yourself, also a program. Many different interpreters for python code have been written in different languages. The interpreter that is usually used, is the cpython implementation and is a python interpreter written in c. So what happens when this program interprets our code? Before it interprets the code you have written, it first compiles that code down to a language that is more easily readable by computers, reffered to as bytecode. To learn more about the entire process of compilation of python code take a look [here](https://leanpub.com/insidethepythonvirtualmachine/read#leanpub-auto-allocating-frame-objects)"
   ]
  },
  {
   "cell_type": "markdown",
   "id": "913ac8cb",
   "metadata": {},
   "source": [
    "Bytecode is a lower-level platform independent representation of the code you have written. Bytecode contains instructions for the platform dependent PVM (python virtual machine). After code is compiled to bytecode, it is the executed by the python virtual machine. For a deeper dive into python bytecode, take a look [here](https://towardsdatascience.com/understanding-python-bytecode-e7edaae8734d). The PVM interprets the byte code and converts it into machine code that can be executed on the CPU."
   ]
  },
  {
   "cell_type": "markdown",
   "id": "a3e04c69",
   "metadata": {},
   "source": [
    "# Memory management"
   ]
  },
  {
   "cell_type": "markdown",
   "id": "a88881fd",
   "metadata": {},
   "source": [
    "When a program executes, it needs to store all the data that is used in memory. Memory management is the process of efficiently allocating, de-allocating, and coordinating memory so that all the different processes run smoothly and can optimally access different system resources. Memory management also involves cleaning memory of objects that are no longer being accessed. So lets talk a little bit about how variables and different classes are stored in memory. Read [this](https://realpython.com/python-memory-management/) article to learn more about this topic. "
   ]
  },
  {
   "cell_type": "markdown",
   "id": "346422bd",
   "metadata": {},
   "source": [
    "At the lowest level, everything you make in python is at its core a PyObject. All variables are references to such objects that are stored in memory. At that location in memory, the actual values are stored. We can use the ```id()``` function to look where this PyObject is located in memory."
   ]
  },
  {
   "cell_type": "code",
   "execution_count": 5,
   "id": "0edd1b39",
   "metadata": {},
   "outputs": [
    {
     "name": "stdout",
     "output_type": "stream",
     "text": [
      "0x7f8a2bd06930\n"
     ]
    }
   ],
   "source": [
    "a = 1\n",
    "print(hex(id(a)))"
   ]
  },
  {
   "cell_type": "markdown",
   "id": "59b0c493",
   "metadata": {},
   "source": [
    "When you instanciate a variable a piece of memory is allocated, in which the data which the variable references is stored. Python keep track of the number of references to a pyobject. If there are no more references to a pyobject it is not possible to access that object anymore and it is de-allocated again. This process is done by the garbage collector."
   ]
  },
  {
   "cell_type": "markdown",
   "id": "d8238ea6",
   "metadata": {},
   "source": [
    "References are stored in the stack and the objects themselves on the heap."
   ]
  },
  {
   "cell_type": "markdown",
   "id": "5685f1ab",
   "metadata": {},
   "source": [
    "## Passing arguments by assignment"
   ]
  },
  {
   "cell_type": "markdown",
   "id": "28981904",
   "metadata": {},
   "source": [
    "What happens in memory when you pass an argument to a function? Python uses a system called passing arguments by assignment. There are two different types of objects we need to take into account here. Mutable objects and immutable objects. Immutable objects like integers, floats, booleans, tuples, strings are copied when they are passed to a function (this is sometimes referred to as pass by value). Mutable objects however are passed by reference. Lets see what that means in practice."
   ]
  },
  {
   "cell_type": "markdown",
   "id": "7c4101c7",
   "metadata": {},
   "source": [
    "As you can see in the cell below, since a immutable type is passed to the ```myfunc()``` function and thus a copy is made. A new immutable object is assigned to the copy that was passed to the function. When the function is finished there are no more references to this copy and it is deallocated. The original string is unchanged."
   ]
  },
  {
   "cell_type": "code",
   "execution_count": 12,
   "id": "d7c5a8a2",
   "metadata": {},
   "outputs": [
    {
     "name": "stdout",
     "output_type": "stream",
     "text": [
      "test\n"
     ]
    }
   ],
   "source": [
    "def myfunc(s):\n",
    "    s += \"i\"\n",
    "\n",
    "s = \"test\"\n",
    "myfunc(s)\n",
    "print(s)"
   ]
  },
  {
   "cell_type": "markdown",
   "id": "19e2e30c",
   "metadata": {},
   "source": [
    "This is a contrast with when we pass a mutable object like a string to a function as can be seen below."
   ]
  },
  {
   "cell_type": "code",
   "execution_count": 17,
   "id": "2f4f32c7",
   "metadata": {},
   "outputs": [
    {
     "name": "stdout",
     "output_type": "stream",
     "text": [
      "[1, 2, 3, 'test']\n"
     ]
    }
   ],
   "source": [
    "def myfunc(l):\n",
    "    l.append(\"test\")\n",
    "\n",
    "l = [1, 2, 3]\n",
    "myfunc(l)\n",
    "print(l)"
   ]
  },
  {
   "cell_type": "markdown",
   "id": "0d5c634d",
   "metadata": {},
   "source": [
    "# Typing"
   ]
  },
  {
   "cell_type": "markdown",
   "id": "c741eac9",
   "metadata": {},
   "source": [
    "Python is a dynamically typed language. This means it is not known at compile time what the types of different variables are. This is in contrast with statically typed languages. These languages know types at compile time and will through errors if a mistake in typing is made before a program is even executed."
   ]
  }
 ],
 "metadata": {
  "kernelspec": {
   "display_name": "Python 3 (ipykernel)",
   "language": "python",
   "name": "python3"
  },
  "language_info": {
   "codemirror_mode": {
    "name": "ipython",
    "version": 3
   },
   "file_extension": ".py",
   "mimetype": "text/x-python",
   "name": "python",
   "nbconvert_exporter": "python",
   "pygments_lexer": "ipython3",
   "version": "3.9.9"
  }
 },
 "nbformat": 4,
 "nbformat_minor": 5
}
