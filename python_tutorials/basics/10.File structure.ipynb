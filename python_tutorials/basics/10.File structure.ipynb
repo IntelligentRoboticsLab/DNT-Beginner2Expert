{
 "cells": [
  {
   "cell_type": "markdown",
   "id": "9f5fe1b5",
   "metadata": {},
   "source": [
    "# File structure"
   ]
  },
  {
   "cell_type": "markdown",
   "id": "b3f80e1e",
   "metadata": {},
   "source": [
    "In this section, we will look at some of the methods that are used to structure python programms. These principles are difficult to show in a jupyter notebook. Therefore to fully understand this section, you will probabaly need to complete the associated assignment. In the next section, we will be making use of an external library and it is usefull to know what a library is exactly before starting on that sections. This section on its own should give you enough understanding to move on to the next section."
   ]
  },
  {
   "cell_type": "markdown",
   "id": "ac974143",
   "metadata": {},
   "source": [
    "# Modules"
   ]
  },
  {
   "cell_type": "markdown",
   "id": "4536f761",
   "metadata": {},
   "source": [
    "We have already seen classes. They are a way to store data and functions associated with that data. Usually when making a project we might write several classes in a single file. Such a file, storing a bunch of related code is referred to as a module."
   ]
  },
  {
   "cell_type": "markdown",
   "id": "688e535d",
   "metadata": {},
   "source": [
    "# Packages"
   ]
  },
  {
   "cell_type": "markdown",
   "id": "c05b42b3",
   "metadata": {},
   "source": [
    "When a project becomes a little larger, you might have several modules. In that case, it is usefull to group and order those modules. That is what a package can be used for. A package is basically a collection of modules. A package is a directory that contains the modules (files) you want to group together. How you can do this is discussed in the associated assignment."
   ]
  },
  {
   "cell_type": "markdown",
   "id": "877f7b19",
   "metadata": {},
   "source": [
    "# Libraries"
   ]
  },
  {
   "cell_type": "markdown",
   "id": "60c1356f",
   "metadata": {},
   "source": [
    "Often you do not want to reimplement certain pieces of code, we want to build upon already existing code. We want to do this because it is simply not feasable to implement everything from scratch. There are often pieces of code that are usefull in many different scenarios and we dont want to write the pieces of code over and over. Therefore we can make use of external libraries, that implement a certain functionality for us. Often optimized for performance to a level that is hard to achieve by scratch."
   ]
  },
  {
   "cell_type": "markdown",
   "id": "b17642f6",
   "metadata": {},
   "source": [
    "Lets say we want to do some mathematical operations. We could use the math module. To use a module it first needs to be imported. This is done as follows."
   ]
  },
  {
   "cell_type": "code",
   "execution_count": 19,
   "id": "4f7d5d7f",
   "metadata": {},
   "outputs": [],
   "source": [
    "import math"
   ]
  },
  {
   "cell_type": "markdown",
   "id": "7b3a4d29",
   "metadata": {},
   "source": [
    "Now we can use all kinds of usefull functions that the math module provides. Often it is a good idea to look up the documentation for any modules you want to use to figure out how you should use the provided fuctionality. The documentation for this module can be found [here](https://docs.python.org/3/library/math.html)."
   ]
  },
  {
   "cell_type": "code",
   "execution_count": 20,
   "id": "423bb183",
   "metadata": {},
   "outputs": [
    {
     "name": "stdout",
     "output_type": "stream",
     "text": [
      "4.898979485566356\n",
      "11.242578689451346\n"
     ]
    }
   ],
   "source": [
    "print(math.sqrt(24))\n",
    "print(math.log2(2423))"
   ]
  },
  {
   "cell_type": "markdown",
   "id": "9789f169",
   "metadata": {},
   "source": [
    "Maybe we want to retrieve the current time. To do this, we could use the datetime module. We can give a module a different name when importing it using the ```as``` keyword."
   ]
  },
  {
   "cell_type": "code",
   "execution_count": 21,
   "id": "48310765",
   "metadata": {},
   "outputs": [],
   "source": [
    "import datetime as dt"
   ]
  },
  {
   "cell_type": "code",
   "execution_count": 22,
   "id": "24f9d88c",
   "metadata": {},
   "outputs": [
    {
     "data": {
      "text/plain": [
       "datetime.datetime(2022, 11, 4, 0, 34, 35, 560184)"
      ]
     },
     "execution_count": 22,
     "metadata": {},
     "output_type": "execute_result"
    }
   ],
   "source": [
    "dt.datetime.now()"
   ]
  },
  {
   "cell_type": "markdown",
   "id": "87103579",
   "metadata": {},
   "source": [
    "The modules math and datetime, are modules that are part of the standard library. The standard library contains a number of very usefull built-in modules. [Here](https://docs.python.org/3/library/), you can find a list of all modules in the standard library. The standard library is usually downloaded during the python installation process. That is why we can immediatly just use these modules. If you want to use modules that are not in the standard library, you install these libraries first. Libraries can be installed using the Package Installer for Python (PIP). "
   ]
  },
  {
   "cell_type": "markdown",
   "id": "3af403ad",
   "metadata": {},
   "source": [
    "You can make a list of all the packages already installed by pip using the command ```pip freeze``` in the terminal or executing the cell below."
   ]
  },
  {
   "cell_type": "code",
   "execution_count": 28,
   "id": "9974e850",
   "metadata": {},
   "outputs": [
    {
     "name": "stdout",
     "output_type": "stream",
     "text": [
      "anyio==3.6.1\n",
      "argon2-cffi==21.3.0\n",
      "argon2-cffi-bindings==21.2.0\n",
      "asttokens==2.0.8\n",
      "attrs==22.1.0\n",
      "autopep8==1.7.0\n",
      "backcall==0.2.0\n",
      "beautifulsoup4==4.11.1\n",
      "bleach==5.0.1\n",
      "cffi==1.15.1\n",
      "debugpy==1.6.3\n",
      "decorator==5.1.1\n",
      "defusedxml==0.7.1\n",
      "entrypoints==0.4\n",
      "executing==1.1.1\n",
      "fastjsonschema==2.16.2\n",
      "idna==3.4\n",
      "importlib-metadata==5.0.0\n",
      "ipykernel==6.16.0\n",
      "ipython==8.5.0\n",
      "ipython-genutils==0.2.0\n",
      "jedi==0.18.1\n",
      "Jinja2==3.1.2\n",
      "jsonschema==4.16.0\n",
      "jupyter-core==4.11.1\n",
      "jupyter-server==1.21.0\n",
      "jupyter_client==7.4.2\n",
      "jupyterlab-pygments==0.2.2\n",
      "MarkupSafe==2.1.1\n",
      "matplotlib-inline==0.1.6\n",
      "mistune==2.0.4\n",
      "nbclassic==0.4.5\n",
      "nbclient==0.7.0\n",
      "nbconvert==7.2.1\n",
      "nbformat==5.7.0\n",
      "nest-asyncio==1.5.6\n",
      "notebook==6.5.1\n",
      "notebook-shim==0.1.0\n",
      "packaging==21.3\n",
      "pandocfilters==1.5.0\n",
      "parso==0.8.3\n",
      "pexpect==4.8.0\n",
      "pickleshare==0.7.5\n",
      "prometheus-client==0.15.0\n",
      "prompt-toolkit==3.0.31\n",
      "psutil==5.9.2\n",
      "ptyprocess==0.7.0\n",
      "pure-eval==0.2.2\n",
      "pycodestyle==2.9.1\n",
      "pycparser==2.21\n",
      "Pygments==2.13.0\n",
      "pyparsing==3.0.9\n",
      "pyrsistent==0.18.1\n",
      "python-dateutil==2.8.2\n",
      "pyzmq==24.0.1\n",
      "Send2Trash==1.8.0\n",
      "six==1.16.0\n",
      "sniffio==1.3.0\n",
      "soupsieve==2.3.2.post1\n",
      "stack-data==0.5.1\n",
      "terminado==0.16.0\n",
      "tinycss2==1.1.1\n",
      "toml==0.10.2\n",
      "tornado==6.2\n",
      "traitlets==5.4.0\n",
      "wcwidth==0.2.5\n",
      "webencodings==0.5.1\n",
      "websocket-client==1.4.1\n",
      "zipp==3.9.0\n",
      "Note: you may need to restart the kernel to use updated packages.\n"
     ]
    }
   ],
   "source": [
    "pip freeze"
   ]
  },
  {
   "cell_type": "markdown",
   "id": "57217dd4",
   "metadata": {},
   "source": [
    "A library that we will explore in the next section is numpy. Which is usually installed using the command ```pip3 install numpy```."
   ]
  },
  {
   "cell_type": "code",
   "execution_count": null,
   "id": "6c70ba1a",
   "metadata": {},
   "outputs": [],
   "source": []
  }
 ],
 "metadata": {
  "kernelspec": {
   "display_name": "Python 3 (ipykernel)",
   "language": "python",
   "name": "python3"
  },
  "language_info": {
   "codemirror_mode": {
    "name": "ipython",
    "version": 3
   },
   "file_extension": ".py",
   "mimetype": "text/x-python",
   "name": "python",
   "nbconvert_exporter": "python",
   "pygments_lexer": "ipython3",
   "version": "3.9.9"
  }
 },
 "nbformat": 4,
 "nbformat_minor": 5
}
