{
 "cells": [
  {
   "cell_type": "markdown",
   "id": "417a05d8",
   "metadata": {},
   "source": [
    "# Tuples"
   ]
  },
  {
   "cell_type": "markdown",
   "id": "ef91d889",
   "metadata": {},
   "source": [
    "The last built-in python datatype we will look at are tuples. Tuples are an immutable ordered collection of elements. Because they are not mutable, there are only very few methods associated with tuples and therefore this section will be very brief."
   ]
  },
  {
   "cell_type": "code",
   "execution_count": 5,
   "id": "db3bcb24",
   "metadata": {},
   "outputs": [
    {
     "name": "stdout",
     "output_type": "stream",
     "text": [
      "('a', 1, '4', [1, 2, 3], 5, 'b', 1)\n"
     ]
    }
   ],
   "source": [
    "t = (\"a\", 1, \"4\", [1, 2, 3], 5, \"b\", 1)\n",
    "print(t)"
   ]
  },
  {
   "cell_type": "markdown",
   "id": "4c182146",
   "metadata": {},
   "source": [
    "Tuples can be indexed just like lists and also support slices."
   ]
  },
  {
   "cell_type": "code",
   "execution_count": 11,
   "id": "b9d56c9a",
   "metadata": {},
   "outputs": [
    {
     "name": "stdout",
     "output_type": "stream",
     "text": [
      "a\n",
      "('a', 1, '4')\n"
     ]
    }
   ],
   "source": [
    "print(t[0])\n",
    "print(t[0:3:1])"
   ]
  },
  {
   "cell_type": "markdown",
   "id": "8762a512",
   "metadata": {},
   "source": [
    "There are two functions that are associated with tuples, both of which we have seen before with lists. Those functinos are ```index()``` and ```count()```. We leave it up to you to figure out how to use these. It is possible to loop over tuples just as we have done with lists and we can also check for the existance of an element in a tuple with the ```in``` keyword."
   ]
  },
  {
   "cell_type": "markdown",
   "id": "5829cb45",
   "metadata": {},
   "source": [
    "The underlying datastructure used to implement tuples is very similar to that of lists, with a few optimizations that can be made, since a tuple is of fixed size."
   ]
  },
  {
   "cell_type": "markdown",
   "id": "ed78f62e",
   "metadata": {},
   "source": [
    "One new concept we can discuss regarding to tuples is pattern matching. Pattern matching can be used to unpack the elements of a tuple into different variables that reference the elements in that tuple. An example is given below."
   ]
  },
  {
   "cell_type": "code",
   "execution_count": 15,
   "id": "2cb145a0",
   "metadata": {},
   "outputs": [
    {
     "name": "stdout",
     "output_type": "stream",
     "text": [
      "1\n",
      "2\n",
      "3\n"
     ]
    }
   ],
   "source": [
    "t = (1, 2, 3)\n",
    "(a, b, c) = t\n",
    "print(a)\n",
    "print(b)\n",
    "print(c)"
   ]
  },
  {
   "cell_type": "markdown",
   "id": "090f3886",
   "metadata": {},
   "source": [
    "This is a pattern that is often used in for loops."
   ]
  },
  {
   "cell_type": "code",
   "execution_count": 18,
   "id": "45d77a32",
   "metadata": {},
   "outputs": [
    {
     "name": "stdout",
     "output_type": "stream",
     "text": [
      "tuple\n",
      "1\n",
      "b\n",
      "tuple\n",
      "4\n",
      "a\n",
      "tuple\n",
      "['asdfad', 1, 5.234]\n",
      "234234\n"
     ]
    }
   ],
   "source": [
    "for (a, b) in [(\"1\", \"b\"), (4,\"a\"), ([\"asdfad\", 1, 5.234], 234234)]:\n",
    "    print(\"tuple\")\n",
    "    print(a)\n",
    "    print(b)"
   ]
  },
  {
   "cell_type": "code",
   "execution_count": null,
   "id": "ad000a95",
   "metadata": {},
   "outputs": [],
   "source": []
  }
 ],
 "metadata": {
  "kernelspec": {
   "display_name": "Python 3 (ipykernel)",
   "language": "python",
   "name": "python3"
  },
  "language_info": {
   "codemirror_mode": {
    "name": "ipython",
    "version": 3
   },
   "file_extension": ".py",
   "mimetype": "text/x-python",
   "name": "python",
   "nbconvert_exporter": "python",
   "pygments_lexer": "ipython3",
   "version": "3.9.9"
  }
 },
 "nbformat": 4,
 "nbformat_minor": 5
}
