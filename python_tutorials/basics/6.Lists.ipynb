{
 "cells": [
  {
   "cell_type": "markdown",
   "id": "011a5ebf",
   "metadata": {},
   "source": [
    "# Lists"
   ]
  },
  {
   "cell_type": "markdown",
   "id": "fa4dfa11",
   "metadata": {},
   "source": [
    "A list is an abstract datatype. It represents a finite number of ordered elements, where similar elements can occur more than once. In this part we will first look at all functions that are associated with lists. So lets see how we can make a list, for example to store all the average grades for the students in a class."
   ]
  },
  {
   "cell_type": "code",
   "execution_count": 39,
   "id": "d31f8d46",
   "metadata": {},
   "outputs": [],
   "source": [
    "grades = [4,6,5,6,8,3,5,2,3,8,7,9,6,5,10,8]"
   ]
  },
  {
   "cell_type": "markdown",
   "id": "b914cdf5",
   "metadata": {},
   "source": [
    "We can retrieve the number of students in the class, or the lenght of the list using the ```len()``` function."
   ]
  },
  {
   "cell_type": "code",
   "execution_count": 40,
   "id": "58fb751c",
   "metadata": {},
   "outputs": [
    {
     "data": {
      "text/plain": [
       "16"
      ]
     },
     "execution_count": 40,
     "metadata": {},
     "output_type": "execute_result"
    }
   ],
   "source": [
    "len(grades)"
   ]
  },
  {
   "cell_type": "markdown",
   "id": "6e7a3ba4",
   "metadata": {},
   "source": [
    "### Adding items to a list"
   ]
  },
  {
   "cell_type": "markdown",
   "id": "e841e208",
   "metadata": {},
   "source": [
    "We can also add new elements to the list in several different ways. For example, we can append to the end of a list using the ```append()``` function, this function mutates the list (changes the contents of the list)."
   ]
  },
  {
   "cell_type": "code",
   "execution_count": 41,
   "id": "9085f579",
   "metadata": {},
   "outputs": [
    {
     "name": "stdout",
     "output_type": "stream",
     "text": [
      "[4, 6, 5, 6, 8, 3, 5, 2, 3, 8, 7, 9, 6, 5, 10, 8, 5]\n"
     ]
    }
   ],
   "source": [
    "grades.append(5)\n",
    "print(grades)"
   ]
  },
  {
   "cell_type": "markdown",
   "id": "e4e69689",
   "metadata": {},
   "source": [
    "We can also add multiple elements to the list at once, using the ```extends()``` function."
   ]
  },
  {
   "cell_type": "code",
   "execution_count": 42,
   "id": "94fb91f4",
   "metadata": {},
   "outputs": [
    {
     "name": "stdout",
     "output_type": "stream",
     "text": [
      "[4, 6, 5, 6, 8, 3, 5, 2, 3, 8, 7, 9, 6, 5, 10, 8, 5, 8, 7, 9, 5]\n"
     ]
    }
   ],
   "source": [
    "grades.extend([8,7,9,5])\n",
    "print(grades)"
   ]
  },
  {
   "cell_type": "markdown",
   "id": "fb0e5e2d",
   "metadata": {},
   "source": [
    "We can also insert an element at a certain index. An index refers to the location of an element in a list starting at 0. The first element in a list is thus said to be at index 0, the second at index 1, etc. Inserting an element at a certain index can be done using the ```index()``` function, which takes two arguments. The first argument indicates the index at which to insert the element, the second is the element you want to insert at that index."
   ]
  },
  {
   "cell_type": "code",
   "execution_count": 43,
   "id": "cea78388",
   "metadata": {},
   "outputs": [
    {
     "name": "stdout",
     "output_type": "stream",
     "text": [
      "[10, 4, 6, 5, 6, 8, 3, 5, 2, 3, 8, 7, 9, 6, 5, 10, 8, 5, 8, 7, 9, 5]\n"
     ]
    }
   ],
   "source": [
    "grades.insert(0, 10)\n",
    "print(grades)"
   ]
  },
  {
   "cell_type": "markdown",
   "id": "8288111c",
   "metadata": {},
   "source": [
    "### Removing items from a list"
   ]
  },
  {
   "cell_type": "markdown",
   "id": "82104b41",
   "metadata": {},
   "source": [
    "We can also remove items using the ```remove()``` function. This function removes the first matching element from a list."
   ]
  },
  {
   "cell_type": "code",
   "execution_count": 47,
   "id": "badd3472",
   "metadata": {},
   "outputs": [
    {
     "name": "stdout",
     "output_type": "stream",
     "text": [
      "[10, 6, 5, 6, 8, 3, 5, 2, 3, 8, 7, 9, 6, 5, 10, 8, 5, 8, 7, 9, 5]\n"
     ]
    }
   ],
   "source": [
    "grades.remove(4)\n",
    "print(grades)"
   ]
  },
  {
   "cell_type": "markdown",
   "id": "261429e9",
   "metadata": {},
   "source": [
    "A common operation on lists is remove the last element and using that element for something. This is often referred to as popping something of a list and this operations also has an accosiated function ```pop()```."
   ]
  },
  {
   "cell_type": "code",
   "execution_count": 48,
   "id": "2af94ce6",
   "metadata": {},
   "outputs": [
    {
     "name": "stdout",
     "output_type": "stream",
     "text": [
      "[10, 6, 5, 6, 8, 3, 5, 2, 3, 8, 7, 9, 6, 5, 10, 8, 5, 8, 7, 9]\n",
      "5\n"
     ]
    }
   ],
   "source": [
    "last_element = grades.pop()\n",
    "print(grades)\n",
    "print(last_element)"
   ]
  },
  {
   "cell_type": "markdown",
   "id": "2a73b274",
   "metadata": {},
   "source": [
    "We can also completely emtpy the entire list using the ```clear()``` function."
   ]
  },
  {
   "cell_type": "code",
   "execution_count": 50,
   "id": "579a761e",
   "metadata": {},
   "outputs": [
    {
     "name": "stdout",
     "output_type": "stream",
     "text": [
      "[]\n"
     ]
    }
   ],
   "source": [
    "grades.clear()\n",
    "print(grades)"
   ]
  },
  {
   "cell_type": "markdown",
   "id": "0a962798",
   "metadata": {},
   "source": [
    "### Additional functions"
   ]
  },
  {
   "cell_type": "markdown",
   "id": "bb330a28",
   "metadata": {},
   "source": [
    "There are a few other functions that can be very usefull when working with lists. To retrieve the index of the first matching element, you can use the ```index()``` function."
   ]
  },
  {
   "cell_type": "code",
   "execution_count": 63,
   "id": "8fced2d5",
   "metadata": {},
   "outputs": [
    {
     "name": "stdout",
     "output_type": "stream",
     "text": [
      "1\n",
      "3\n"
     ]
    }
   ],
   "source": [
    "animals = ['cat', 'dog', 'rabbit', 'horse', 'dog', 'mouse', 'dog', 'cat']\n",
    "index = animals.index('dog')\n",
    "print(index)\n",
    "\n",
    "index = animals.index('horse')\n",
    "print(index)"
   ]
  },
  {
   "cell_type": "markdown",
   "id": "d7a8abcc",
   "metadata": {},
   "source": [
    "To retrieve the number of times a certain element occurs in a list, you can use the ```count()``` function."
   ]
  },
  {
   "cell_type": "code",
   "execution_count": 64,
   "id": "0effea76",
   "metadata": {},
   "outputs": [
    {
     "name": "stdout",
     "output_type": "stream",
     "text": [
      "2\n",
      "3\n"
     ]
    }
   ],
   "source": [
    "print(animals.count('cat'))\n",
    "print(animals.count('dog'))"
   ]
  },
  {
   "cell_type": "markdown",
   "id": "4ae6e891",
   "metadata": {},
   "source": [
    "We can also sort lists, for numbers this is by default in ascending order, based on the value of the numbers, for strings, this means sorting the list in alphabetical order."
   ]
  },
  {
   "cell_type": "code",
   "execution_count": 65,
   "id": "80511b32",
   "metadata": {},
   "outputs": [
    {
     "name": "stdout",
     "output_type": "stream",
     "text": [
      "['cat', 'cat', 'dog', 'dog', 'dog', 'horse', 'mouse', 'rabbit']\n"
     ]
    }
   ],
   "source": [
    "animals.sort()\n",
    "print(animals)"
   ]
  },
  {
   "cell_type": "markdown",
   "id": "826efb6f",
   "metadata": {},
   "source": [
    "We might want to have the list in the exact opposite order and to do that, there is a function ```reverse()```."
   ]
  },
  {
   "cell_type": "code",
   "execution_count": 66,
   "id": "9696c596",
   "metadata": {},
   "outputs": [
    {
     "name": "stdout",
     "output_type": "stream",
     "text": [
      "['rabbit', 'mouse', 'horse', 'dog', 'dog', 'dog', 'cat', 'cat']\n"
     ]
    }
   ],
   "source": [
    "animals.reverse()\n",
    "print(animals)"
   ]
  },
  {
   "cell_type": "markdown",
   "id": "53605e3c",
   "metadata": {},
   "source": [
    "Lastly, sometimes you need to know whether a list contains, or does not contain a certain item. For this we can use the keyword ```in``` and boolean logic."
   ]
  },
  {
   "cell_type": "code",
   "execution_count": 71,
   "id": "a69a00b9",
   "metadata": {},
   "outputs": [
    {
     "name": "stdout",
     "output_type": "stream",
     "text": [
      "True\n",
      "False\n",
      "False\n",
      "True\n"
     ]
    }
   ],
   "source": [
    "print('rabbit' in animals)\n",
    "print('giraffe' in animals)\n",
    "\n",
    "print('rabbit' not in animals)\n",
    "print('giraffe' not in animals)"
   ]
  },
  {
   "cell_type": "markdown",
   "id": "227a0f86",
   "metadata": {},
   "source": [
    "This might be a lot of information and we showed you all these functions just so you know they exist. In practice the function you will probably actually use most, is the ```append()``` function."
   ]
  },
  {
   "cell_type": "markdown",
   "id": "5b163eb8",
   "metadata": {},
   "source": [
    "## List slicing and indexing"
   ]
  },
  {
   "cell_type": "markdown",
   "id": "bc70dbff",
   "metadata": {},
   "source": [
    "So now we can do all kinds of operations to mutate lists. How do we access the elements stored in a list? This is done by indexing, which is a process in which an index is used to retrieve the item stored in the list at that location. List retrieve the first and third animals in the list of animals. Notice how indexing always starts at zero."
   ]
  },
  {
   "cell_type": "code",
   "execution_count": 74,
   "id": "5d7e755a",
   "metadata": {},
   "outputs": [
    {
     "name": "stdout",
     "output_type": "stream",
     "text": [
      "rabbit\n",
      "horse\n"
     ]
    }
   ],
   "source": [
    "print(animals[0])\n",
    "print(animals[2])"
   ]
  },
  {
   "cell_type": "markdown",
   "id": "dc0b2bef",
   "metadata": {},
   "source": [
    "We can also use negative indexes. So if we want to retrieve that last item in the list, we can use the index -1."
   ]
  },
  {
   "cell_type": "code",
   "execution_count": 76,
   "id": "e4666bc4",
   "metadata": {},
   "outputs": [
    {
     "name": "stdout",
     "output_type": "stream",
     "text": [
      "cat\n"
     ]
    }
   ],
   "source": [
    "print(animals[-1])"
   ]
  },
  {
   "cell_type": "markdown",
   "id": "d0549593",
   "metadata": {},
   "source": [
    "Often you want to retrieve a part of a list, not just a single element. This can be done using slices. To make a slice, you can give three parameters to indicate what part of a list you want. First you give the index of the start of the part of the list you want. Then you give the index of the last part of the list you want. This is exclusive indexing, which means that all elements upto this index will be included and not the element at that index itself. As a third parameters you can indicate the stepsize in which you want to retrieve items. The syntax for slices is very similar to that of indexing."
   ]
  },
  {
   "cell_type": "markdown",
   "id": "95369704",
   "metadata": {},
   "source": [
    "The following slice, retrieve all elements in the animals list starting at the second element, upto the sixth element in steps of two."
   ]
  },
  {
   "cell_type": "code",
   "execution_count": 83,
   "id": "0d86d69e",
   "metadata": {},
   "outputs": [
    {
     "name": "stdout",
     "output_type": "stream",
     "text": [
      "['mouse', 'dog']\n"
     ]
    }
   ],
   "source": [
    "print(animals[1:5:2])"
   ]
  },
  {
   "cell_type": "markdown",
   "id": "176d8dd8",
   "metadata": {},
   "source": [
    "You can also leave away these parameters and use the defaults. Some examples are given below. See if you can understand the results and play around with slicing."
   ]
  },
  {
   "cell_type": "code",
   "execution_count": 93,
   "id": "c61c6afd",
   "metadata": {},
   "outputs": [
    {
     "name": "stdout",
     "output_type": "stream",
     "text": [
      "['mouse', 'horse', 'dog', 'dog']\n",
      "['rabbit', 'mouse', 'horse', 'dog', 'dog']\n",
      "['dog', 'dog', 'dog', 'cat', 'cat']\n",
      "['dog', 'dog', 'cat']\n",
      "['rabbit', 'horse', 'dog', 'cat']\n",
      "['rabbit', 'mouse', 'horse', 'dog', 'dog', 'dog', 'cat', 'cat']\n",
      "['rabbit', 'mouse', 'horse', 'dog', 'dog', 'dog', 'cat', 'cat']\n"
     ]
    }
   ],
   "source": [
    "print(animals[1:5])\n",
    "print(animals[:5])\n",
    "print(animals[3:])\n",
    "print(animals[3::2])\n",
    "print(animals[::2])\n",
    "print(animals[::])\n",
    "print(animals[:])"
   ]
  },
  {
   "cell_type": "markdown",
   "id": "03737d65",
   "metadata": {},
   "source": [
    "## List operators"
   ]
  },
  {
   "cell_type": "markdown",
   "id": "177c2d28",
   "metadata": {},
   "source": [
    "Besides functions, there are also several operators we can use on lists. Lets first initialize a few lists."
   ]
  },
  {
   "cell_type": "code",
   "execution_count": 94,
   "id": "5c9bbc4f",
   "metadata": {},
   "outputs": [],
   "source": [
    "a = []\n",
    "b = [1]\n",
    "c = [2,3,4,5,6]"
   ]
  },
  {
   "cell_type": "markdown",
   "id": "67d31ae7",
   "metadata": {},
   "source": [
    "We can concatenate lists using the + operator.\n",
    "\n",
    "Note: unalike the previous function, this does not mutate the lists them selves. So we have to assign the result of using these operators to a new variable."
   ]
  },
  {
   "cell_type": "code",
   "execution_count": 96,
   "id": "38474102",
   "metadata": {},
   "outputs": [
    {
     "name": "stdout",
     "output_type": "stream",
     "text": [
      "[1, 2, 3, 4, 5, 6]\n"
     ]
    }
   ],
   "source": [
    "d = b + c\n",
    "print(d)"
   ]
  },
  {
   "cell_type": "markdown",
   "id": "45354b38",
   "metadata": {},
   "source": [
    "We can also multiply a list with an integer to repeat x number of times it."
   ]
  },
  {
   "cell_type": "code",
   "execution_count": 97,
   "id": "ed9e1ca1",
   "metadata": {},
   "outputs": [
    {
     "name": "stdout",
     "output_type": "stream",
     "text": [
      "[1, 1, 1, 1, 1, 1]\n"
     ]
    }
   ],
   "source": [
    "e = b * 6\n",
    "print(e)"
   ]
  },
  {
   "cell_type": "markdown",
   "id": "8e021f14",
   "metadata": {},
   "source": [
    "## Looping over lists"
   ]
  },
  {
   "cell_type": "markdown",
   "id": "71241b39",
   "metadata": {},
   "source": [
    "Lets say that for some reason, we need to adjust the values in a list. We could do this by looping over the elements in that list, applying an operation and then appending the result to a new list. Looping over a list can be done using the\n",
    "\n",
    "```\n",
    "for <ref> in <list>:\n",
    "    <code to execute>\n",
    "```\n",
    "\n",
    "syntax. This loops over all elements in the list, and executes some code in for every element in the list. In the code that is to be executed for a certain element, you can refer to that element with the variable declared as ```<ref>```. We have seen this construct before, in the section discussing control flow. Here we looped over the characters in a string. Lets subtract a value from all elements in a list."
   ]
  },
  {
   "cell_type": "code",
   "execution_count": 105,
   "id": "92de11d2",
   "metadata": {},
   "outputs": [
    {
     "name": "stdout",
     "output_type": "stream",
     "text": [
      "[-0.5, 0.5, 1.5, 2.5, 3.5, 4.5, 5.5, 6.5, 7.5, 8.5]\n"
     ]
    }
   ],
   "source": [
    "l = list(range(10))\n",
    "\n",
    "new_l = []\n",
    "\n",
    "for elem in l:\n",
    "    new_l.append(elem - 0.5)\n",
    "    \n",
    "print(new_l)"
   ]
  },
  {
   "cell_type": "markdown",
   "id": "b85abc9c",
   "metadata": {},
   "source": [
    "As you can see, we have now made a new list, that contains the values in the initial list with 0.5 subtracted.\n",
    "\n",
    "Note: It is good practice not to mutate (change) a list while you are looping over a list, as this can lead to all kinds of bugs."
   ]
  },
  {
   "cell_type": "markdown",
   "id": "00461401",
   "metadata": {},
   "source": [
    "### List comprehensions"
   ]
  },
  {
   "cell_type": "markdown",
   "id": "272b986d",
   "metadata": {},
   "source": [
    "Applying an operation to all elements from a list and appending those items to a new list, is such a common operation that there is a special syntax for it. Namely list comprehensions. If you can use a list comprehension, then use a list comprehension, as it is usually faster that explicitly looping over a list using a for loop. It is also more concise."
   ]
  },
  {
   "cell_type": "code",
   "execution_count": 110,
   "id": "8548024d",
   "metadata": {},
   "outputs": [
    {
     "name": "stdout",
     "output_type": "stream",
     "text": [
      "[-0.5, 0.5, 1.5, 2.5, 3.5, 4.5, 5.5, 6.5, 7.5, 8.5]\n"
     ]
    }
   ],
   "source": [
    "new_l = [elem - 0.5 for elem in l]\n",
    "print(new_l)"
   ]
  },
  {
   "cell_type": "markdown",
   "id": "e86f309f",
   "metadata": {},
   "source": [
    "List comprensions offer all kinds of possibilities, which we will not all show here. A usefull one to know, is that it is also possible to add elements to the new list based on a condition. For example to retrieve all even numbers in a list we can use the following code."
   ]
  },
  {
   "cell_type": "code",
   "execution_count": 112,
   "id": "2ec49708",
   "metadata": {},
   "outputs": [
    {
     "name": "stdout",
     "output_type": "stream",
     "text": [
      "[0, 2, 4, 6, 8]\n"
     ]
    }
   ],
   "source": [
    "new_l = [elem for elem in l  if elem % 2 == 0]\n",
    "print(new_l)"
   ]
  },
  {
   "cell_type": "markdown",
   "id": "65032d72",
   "metadata": {},
   "source": [
    "You can combine the previous list comprehensions as well."
   ]
  },
  {
   "cell_type": "code",
   "execution_count": 114,
   "id": "6c1c7593",
   "metadata": {},
   "outputs": [
    {
     "name": "stdout",
     "output_type": "stream",
     "text": [
      "[-0.5, 1.5, 3.5, 5.5, 7.5]\n"
     ]
    }
   ],
   "source": [
    "new_l = [elem - 0.5 for elem in l  if elem % 2 == 0]\n",
    "print(new_l)"
   ]
  },
  {
   "cell_type": "markdown",
   "id": "84b5aef1",
   "metadata": {},
   "source": [
    "Try writing a list comprehensions that squares all uneven numbers in the list ```l``` in the cell below."
   ]
  },
  {
   "cell_type": "code",
   "execution_count": null,
   "id": "b49e8d33",
   "metadata": {},
   "outputs": [],
   "source": []
  },
  {
   "cell_type": "markdown",
   "id": "d863bf53",
   "metadata": {},
   "source": [
    "## (Optional) Abstract datatypes"
   ]
  },
  {
   "cell_type": "markdown",
   "id": "146da08a",
   "metadata": {},
   "source": [
    "In the beginning of the section, we mentioned that a list is an abstract datatype. What does this mean exactly? An abstract datatype can be seen as a sort of interface. It defines what a certain datatype should be able to do. For the list abstract datatype, this means that any object that is a list, should have a function that allows us to append an element at the end of that list and that that object should offer a function to insert an element into that list, or remove an element, etc. "
   ]
  },
  {
   "cell_type": "markdown",
   "id": "f5c68271",
   "metadata": {},
   "source": [
    "An abstract datatype say nothing about how such functionality should actually be implemented. For the case of lists, there are several different ways of defining an object that adhere the constraints of a list abstract datatype. Different implementations can be usefull for different use cases. There might be implementations of a list abstract datatype that are very efficient (fast) at appending new elements, but very slow at insterting new elements."
   ]
  },
  {
   "cell_type": "markdown",
   "id": "bef19592",
   "metadata": {},
   "source": [
    "Datastructures that can be used to implement a list abstract datatype are for example the linked list or array. If you want to learn more about these datastructure take a look [here](https://en.wikipedia.org/wiki/Linked_list) and [here](https://en.wikipedia.org/wiki/Array_(data_structure))."
   ]
  },
  {
   "cell_type": "code",
   "execution_count": null,
   "id": "4f5d6af8",
   "metadata": {},
   "outputs": [],
   "source": []
  }
 ],
 "metadata": {
  "kernelspec": {
   "display_name": "Python 3 (ipykernel)",
   "language": "python",
   "name": "python3"
  },
  "language_info": {
   "codemirror_mode": {
    "name": "ipython",
    "version": 3
   },
   "file_extension": ".py",
   "mimetype": "text/x-python",
   "name": "python",
   "nbconvert_exporter": "python",
   "pygments_lexer": "ipython3",
   "version": "3.9.9"
  }
 },
 "nbformat": 4,
 "nbformat_minor": 5
}
