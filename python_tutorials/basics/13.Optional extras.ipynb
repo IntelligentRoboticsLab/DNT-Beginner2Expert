{
 "cells": [
  {
   "cell_type": "markdown",
   "id": "a3e04c69",
   "metadata": {},
   "source": [
    "# Memory management"
   ]
  },
  {
   "cell_type": "markdown",
   "id": "a88881fd",
   "metadata": {},
   "source": [
    "Memory management is the process of efficiently allocating, de-allocating, and coordinating memory so that all the different processes run smoothly and can optimally access different system resources. Memory management also involves cleaning memory of objects that are no longer being accessed. So lets talk a little bit about how variables and different classes are stored in memory. Read [this](https://realpython.com/python-memory-management/) article to learn more about this topic. We have already learned that python is an intepreted language. How does this work in pratice? The interpreter itself is, just like the code you write yourself, also a program. Many different interpreters for python code have been written in different languages. The interpreter that is usually used is the cpython implementation and is a python interpreter written in c. So what happens if this program interprets our code? Before it interprets the code you have written, that code is first compiled down to a language that is more easily readable by computers, reffered to as bytecode."
   ]
  },
  {
   "cell_type": "code",
   "execution_count": 1,
   "id": "e58392f9",
   "metadata": {},
   "outputs": [
    {
     "ename": "NameError",
     "evalue": "name 'Car' is not defined",
     "output_type": "error",
     "traceback": [
      "\u001b[0;31m---------------------------------------------------------------------------\u001b[0m",
      "\u001b[0;31mNameError\u001b[0m                                 Traceback (most recent call last)",
      "Cell \u001b[0;32mIn [1], line 1\u001b[0m\n\u001b[0;32m----> 1\u001b[0m car \u001b[38;5;241m=\u001b[39m \u001b[43mCar\u001b[49m(\u001b[38;5;124m\"\u001b[39m\u001b[38;5;124mred\u001b[39m\u001b[38;5;124m\"\u001b[39m)\n\u001b[1;32m      2\u001b[0m \u001b[38;5;28mprint\u001b[39m(\u001b[38;5;28mhex\u001b[39m(\u001b[38;5;28mid\u001b[39m(car)))\n",
      "\u001b[0;31mNameError\u001b[0m: name 'Car' is not defined"
     ]
    }
   ],
   "source": [
    "car = Car(\"red\")\n",
    "print(hex(id(car)))"
   ]
  },
  {
   "cell_type": "markdown",
   "id": "5685f1ab",
   "metadata": {},
   "source": [
    "# Call by reference vs call by value"
   ]
  },
  {
   "cell_type": "markdown",
   "id": "0d5c634d",
   "metadata": {},
   "source": [
    "# Typing"
   ]
  },
  {
   "cell_type": "code",
   "execution_count": 3,
   "id": "bef82983",
   "metadata": {},
   "outputs": [
    {
     "ename": "SyntaxError",
     "evalue": "invalid syntax (3169130272.py, line 1)",
     "output_type": "error",
     "traceback": [
      "\u001b[0;36m  Cell \u001b[0;32mIn [3], line 1\u001b[0;36m\u001b[0m\n\u001b[0;31m    discussion on the typing system in a languages and a little bit more on the effect of using a interpreter vs compiler - high level - dont go to deep\u001b[0m\n\u001b[0m               ^\u001b[0m\n\u001b[0;31mSyntaxError\u001b[0m\u001b[0;31m:\u001b[0m invalid syntax\n"
     ]
    }
   ],
   "source": [
    "discussion on the typing system in a languages and a little bit more on the effect of using a interpreter vs compiler - high level - dont go to deep"
   ]
  },
  {
   "cell_type": "code",
   "execution_count": null,
   "id": "4d2bdf21",
   "metadata": {},
   "outputs": [],
   "source": []
  }
 ],
 "metadata": {
  "kernelspec": {
   "display_name": "Python 3 (ipykernel)",
   "language": "python",
   "name": "python3"
  },
  "language_info": {
   "codemirror_mode": {
    "name": "ipython",
    "version": 3
   },
   "file_extension": ".py",
   "mimetype": "text/x-python",
   "name": "python",
   "nbconvert_exporter": "python",
   "pygments_lexer": "ipython3",
   "version": "3.9.9"
  }
 },
 "nbformat": 4,
 "nbformat_minor": 5
}
