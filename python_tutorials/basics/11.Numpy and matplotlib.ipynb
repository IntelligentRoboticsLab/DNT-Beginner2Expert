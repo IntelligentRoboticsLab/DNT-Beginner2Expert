{
 "cells": [
  {
   "cell_type": "markdown",
   "id": "6c431fe9",
   "metadata": {},
   "source": [
    "# Numpy"
   ]
  },
  {
   "cell_type": "markdown",
   "id": "329d1834",
   "metadata": {},
   "source": [
    "In this section we will be exploring the numpy (numerical python) library. This is probably one of the most used libraries and it provides functionality to perform all kinds of scientific computing. The reason you want to use this library when doing larger computations is because in the background it is implemented in the c programming language. This is a much lower level language with a lot less overhead which makes it many times faster than python. This library provides a vast amount of functionality, which we can hardly touch upon in a short tutorial. But we will try to show you some of its basics."
   ]
  },
  {
   "cell_type": "code",
   "execution_count": null,
   "id": "29682a49",
   "metadata": {},
   "outputs": [],
   "source": [
    "# numpy arrays\n",
    "#    initializing arrays\n",
    "#    indexing\n",
    "#    multi dimensional arrays\n",
    "#    indexing\n",
    "#    applying function to an entire array"
   ]
  },
  {
   "cell_type": "code",
   "execution_count": null,
   "id": "b03484e4",
   "metadata": {},
   "outputs": [],
   "source": [
    "# broadcasting"
   ]
  },
  {
   "cell_type": "markdown",
   "id": "634c5dc6",
   "metadata": {},
   "source": [
    "# Matplotlib"
   ]
  },
  {
   "cell_type": "code",
   "execution_count": null,
   "id": "dca81c59",
   "metadata": {},
   "outputs": [],
   "source": [
    "# Read csv file, do somehting with its data"
   ]
  }
 ],
 "metadata": {
  "kernelspec": {
   "display_name": "Python 3 (ipykernel)",
   "language": "python",
   "name": "python3"
  },
  "language_info": {
   "codemirror_mode": {
    "name": "ipython",
    "version": 3
   },
   "file_extension": ".py",
   "mimetype": "text/x-python",
   "name": "python",
   "nbconvert_exporter": "python",
   "pygments_lexer": "ipython3",
   "version": "3.9.9"
  }
 },
 "nbformat": 4,
 "nbformat_minor": 5
}
