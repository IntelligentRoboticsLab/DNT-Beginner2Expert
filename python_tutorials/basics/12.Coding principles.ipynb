{
 "cells": [
  {
   "cell_type": "markdown",
   "id": "83e74e93",
   "metadata": {},
   "source": [
    "# Coding principles"
   ]
  },
  {
   "cell_type": "markdown",
   "id": "8c81422b",
   "metadata": {},
   "source": [
    "In this section we will discuss a few principles and things to keep in mind."
   ]
  },
  {
   "cell_type": "markdown",
   "id": "bab74d5e",
   "metadata": {},
   "source": [
    "## DRY"
   ]
  },
  {
   "cell_type": "markdown",
   "id": "8115f0db",
   "metadata": {},
   "source": [
    "DRY stands for don't repeat yourself. The idea is that you should minimize the amound of duplicate code. The idea is that when code is repeated a lot, this can lead redundant code and makes it more difficult to refactor (change) code. This is because when there are duplications, that means that the code needs to be updated in multiple different places and it is easy to miss or forget one. It is not an infallible idea but often good to keep in mind."
   ]
  },
  {
   "cell_type": "markdown",
   "id": "12c986a2",
   "metadata": {},
   "source": [
    "Potential ideas\n",
    "- syntax and liniting\n",
    "- variable naming\n",
    "- documentation, documentation, documentation\n",
    "- avoid premature optimalisations\n",
    "- testing"
   ]
  }
 ],
 "metadata": {
  "kernelspec": {
   "display_name": "Python 3 (ipykernel)",
   "language": "python",
   "name": "python3"
  },
  "language_info": {
   "codemirror_mode": {
    "name": "ipython",
    "version": 3
   },
   "file_extension": ".py",
   "mimetype": "text/x-python",
   "name": "python",
   "nbconvert_exporter": "python",
   "pygments_lexer": "ipython3",
   "version": "3.9.9"
  }
 },
 "nbformat": 4,
 "nbformat_minor": 5
}
