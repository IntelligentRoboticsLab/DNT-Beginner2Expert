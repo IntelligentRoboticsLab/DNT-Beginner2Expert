{
 "cells": [
  {
   "cell_type": "markdown",
   "id": "7d7edef3",
   "metadata": {},
   "source": [
    "# Dictionaries"
   ]
  },
  {
   "cell_type": "markdown",
   "id": "9ee48d69",
   "metadata": {},
   "source": [
    "The last built-in datatype we will look at, is called a dictionary. A dictionary is a set of key value pairs, not in any particular order. Lets make an empty dictionary and add a few key value pairs with the function ```update()```.\n",
    "\n",
    "Note: keys and values can be of different types."
   ]
  },
  {
   "cell_type": "code",
   "execution_count": 8,
   "id": "a5382f78",
   "metadata": {},
   "outputs": [
    {
     "name": "stdout",
     "output_type": "stream",
     "text": [
      "{'bread': 3.25, 'carrot': 0.4, 'cookie': 1}\n"
     ]
    }
   ],
   "source": [
    "d = {}\n",
    "d.update({\"bread\": 3.25})\n",
    "d.update({\"carrot\": 0.4, \"cookie\": 1})\n",
    "print(d)"
   ]
  },
  {
   "cell_type": "markdown",
   "id": "a435deba",
   "metadata": {},
   "source": [
    "Just like with lists, we can clear the dictionary with the ```clear()``` function."
   ]
  },
  {
   "cell_type": "code",
   "execution_count": 10,
   "id": "bf7b9ff6",
   "metadata": {},
   "outputs": [
    {
     "name": "stdout",
     "output_type": "stream",
     "text": [
      "{}\n"
     ]
    }
   ],
   "source": [
    "d.clear()\n",
    "print(d)"
   ]
  },
  {
   "cell_type": "markdown",
   "id": "74d48c9f",
   "metadata": {},
   "source": [
    "Dictionaries can also be instanciated from a list of keys with a default values."
   ]
  },
  {
   "cell_type": "code",
   "execution_count": 12,
   "id": "ae98f01a",
   "metadata": {},
   "outputs": [
    {
     "name": "stdout",
     "output_type": "stream",
     "text": [
      "{'bread': 0, 'carrot': 0, 'cookie': 0}\n"
     ]
    }
   ],
   "source": [
    "d = d.fromkeys((\"bread\", \"carrot\", \"cookie\"), 0)\n",
    "print(d)"
   ]
  },
  {
   "cell_type": "markdown",
   "id": "a44240bd",
   "metadata": {},
   "source": [
    "The function ```update()``` changes the value associated with a certain key if it already exists."
   ]
  },
  {
   "cell_type": "code",
   "execution_count": 16,
   "id": "714342f8",
   "metadata": {},
   "outputs": [
    {
     "name": "stdout",
     "output_type": "stream",
     "text": [
      "{'bread': 3.25, 'carrot': 0.4, 'cookie': 1}\n"
     ]
    }
   ],
   "source": [
    "d.update({\"bread\": 3.25, \"carrot\": 0.4, \"cookie\": 1})\n",
    "print(d)"
   ]
  },
  {
   "cell_type": "markdown",
   "id": "d55e3cb8",
   "metadata": {},
   "source": [
    "A more concise notation for updating a single value is as follows."
   ]
  },
  {
   "cell_type": "code",
   "execution_count": 17,
   "id": "a70869e1",
   "metadata": {},
   "outputs": [
    {
     "name": "stdout",
     "output_type": "stream",
     "text": [
      "{'bread': 3.25, 'carrot': 0.4, 'cookie': 1, 'pumpkin': 2.5}\n"
     ]
    }
   ],
   "source": [
    "d[\"pumpkin\"] = 2.5\n",
    "print(d)"
   ]
  },
  {
   "cell_type": "markdown",
   "id": "bbb43193",
   "metadata": {},
   "source": [
    "There is also a ```pop()``` function for dictionaries. It removes a key value pair from a dictionary and returns the value."
   ]
  },
  {
   "cell_type": "code",
   "execution_count": 18,
   "id": "83df5a83",
   "metadata": {},
   "outputs": [
    {
     "name": "stdout",
     "output_type": "stream",
     "text": [
      "3.25\n"
     ]
    }
   ],
   "source": [
    "val = d.pop(\"bread\")\n",
    "print(val)"
   ]
  },
  {
   "cell_type": "markdown",
   "id": "b371ef23",
   "metadata": {},
   "source": [
    "The ```popitem()``` function removes the last insterted key value pair."
   ]
  },
  {
   "cell_type": "code",
   "execution_count": 19,
   "id": "276b3024",
   "metadata": {},
   "outputs": [
    {
     "name": "stdout",
     "output_type": "stream",
     "text": [
      "('pumpkin', 2.5)\n"
     ]
    }
   ],
   "source": [
    "val = d.popitem()\n",
    "print(val)"
   ]
  },
  {
   "cell_type": "markdown",
   "id": "ed951d85",
   "metadata": {},
   "source": [
    "There are two ways retrieve a value from a dictionary without removing it. "
   ]
  },
  {
   "cell_type": "code",
   "execution_count": 21,
   "id": "bf87d399",
   "metadata": {},
   "outputs": [
    {
     "name": "stdout",
     "output_type": "stream",
     "text": [
      "1\n",
      "1\n"
     ]
    }
   ],
   "source": [
    "val = d.get(\"cookie\")\n",
    "print(val)\n",
    "val = d[\"cookie\"]\n",
    "print(val)"
   ]
  },
  {
   "cell_type": "markdown",
   "id": "5ab0e9ed",
   "metadata": {},
   "source": [
    "We can also retrieve a list of all the keys and values in several ways."
   ]
  },
  {
   "cell_type": "code",
   "execution_count": 23,
   "id": "097ee6b2",
   "metadata": {},
   "outputs": [
    {
     "name": "stdout",
     "output_type": "stream",
     "text": [
      "dict_keys(['carrot', 'cookie'])\n",
      "dict_items([('carrot', 0.4), ('cookie', 1)])\n",
      "dict_values([0.4, 1])\n"
     ]
    }
   ],
   "source": [
    "print(d.keys())\n",
    "print(d.values())\n",
    "print(d.items())"
   ]
  },
  {
   "cell_type": "markdown",
   "id": "04ac6987",
   "metadata": {},
   "source": [
    "We can use this, together with pattern matching, to iterate over all the key value pairs in a dictionary."
   ]
  },
  {
   "cell_type": "code",
   "execution_count": 25,
   "id": "04dff697",
   "metadata": {},
   "outputs": [
    {
     "name": "stdout",
     "output_type": "stream",
     "text": [
      "key: carrot, val: 0.4\n",
      "key: cookie, val: 1\n"
     ]
    }
   ],
   "source": [
    "for (key, val) in d.items():\n",
    "    print(f\"key: {key}, val: {val}\")"
   ]
  },
  {
   "cell_type": "markdown",
   "id": "7243c8a0",
   "metadata": {},
   "source": [
    "Just like with lists, we can loop through the items in a dictionary using a comprehension. Note that dictionaries do not have a certain order, so the order in which items are retrieved from the dictionary is not fixed. Conditions can also be applied just like in list comprehensions."
   ]
  },
  {
   "cell_type": "code",
   "execution_count": 28,
   "id": "4ce80d74",
   "metadata": {},
   "outputs": [
    {
     "name": "stdout",
     "output_type": "stream",
     "text": [
      "{'a': 2, 'b': 4, 'c': 6, 'd': 8, 'e': 10}\n",
      "{0: 0, 1: 1, 2: 4, 3: 9, 4: 16, 5: 25}\n"
     ]
    }
   ],
   "source": [
    "d = {'a': 1, 'b': 2, 'c': 3, 'd': 4, 'e': 5}\n",
    "doubled = {k:v*2 for (k,v) in d.items()}\n",
    "print(doubled)\n",
    "\n",
    "squares = {x: x*x for x in range(6)}\n",
    "print(squares)"
   ]
  },
  {
   "cell_type": "markdown",
   "id": "96b10b3f",
   "metadata": {},
   "source": [
    "The datastructure that is used to implement python dictionaries is the hash map or hash table. If you want to learn more about this datastructure take a look [here](https://en.wikipedia.org/wiki/Hash_table)."
   ]
  },
  {
   "cell_type": "code",
   "execution_count": null,
   "id": "8cbc56e5",
   "metadata": {},
   "outputs": [],
   "source": []
  }
 ],
 "metadata": {
  "kernelspec": {
   "display_name": "Python 3 (ipykernel)",
   "language": "python",
   "name": "python3"
  },
  "language_info": {
   "codemirror_mode": {
    "name": "ipython",
    "version": 3
   },
   "file_extension": ".py",
   "mimetype": "text/x-python",
   "name": "python",
   "nbconvert_exporter": "python",
   "pygments_lexer": "ipython3",
   "version": "3.9.9"
  }
 },
 "nbformat": 4,
 "nbformat_minor": 5
}
